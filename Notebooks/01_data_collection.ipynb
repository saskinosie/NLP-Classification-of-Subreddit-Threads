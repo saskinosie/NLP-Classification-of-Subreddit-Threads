{
 "cells": [
  {
   "cell_type": "markdown",
   "id": "93d7aec0-4831-4651-8fcd-35cb670f86c6",
   "metadata": {},
   "source": [
    "# Project 3 Notebook 1 - Collecting subreddit data using Praw"
   ]
  },
  {
   "cell_type": "code",
   "execution_count": 2,
   "id": "65211a27-0556-415a-a711-5a5da1f456c2",
   "metadata": {},
   "outputs": [],
   "source": [
    "# Imports for Reddit Praw\n",
    "import requests\n",
    "import calendar\n",
    "import time\n",
    "import pandas as pd\n",
    "import praw"
   ]
  },
  {
   "cell_type": "code",
   "execution_count": 3,
   "id": "81fb73c3-0176-47f7-8660-39447b4e229d",
   "metadata": {},
   "outputs": [],
   "source": [
    "# Instatntiating Praw\n",
    "reddit = praw.Reddit(user_agent=\"testscript (by u/saskinosie)\")"
   ]
  },
  {
   "cell_type": "markdown",
   "id": "7eb99225-1f53-46d3-930a-eb904af4fa38",
   "metadata": {},
   "source": [
    "### Pulling data multiple times. The first pull was on 1/8/23. The second pull was on 1/13/23. "
   ]
  },
  {
   "cell_type": "code",
   "execution_count": 3,
   "id": "bae1deed-3a00-4b91-9a6f-96144b79506c",
   "metadata": {},
   "outputs": [],
   "source": [
    "# Pulling 1,000 posts from sleeptrain subreddit\n",
    "st_posts = reddit.subreddit('sleeptrain').new(limit = 1000)"
   ]
  },
  {
   "cell_type": "code",
   "execution_count": 4,
   "id": "985ee7ef-00de-40b0-a6e3-3b3d893ece2d",
   "metadata": {},
   "outputs": [],
   "source": [
    "# Pulling 1,000 posts from attachment parenting subreddit\n",
    "ap_posts = reddit.subreddit('AttachmentParenting').new(limit = 1000)"
   ]
  },
  {
   "cell_type": "code",
   "execution_count": 5,
   "id": "866de6b1-8d0a-4316-8422-504b72f74a75",
   "metadata": {},
   "outputs": [],
   "source": [
    "# Writing for loop to pull columns to make dataframe\n",
    "subreddit = []\n",
    "selftext = []\n",
    "title = []\n",
    "created_utc = []\n",
    "for i in ap_posts:\n",
    "    subreddit.append(i.subreddit)\n",
    "    selftext.append(i.selftext)\n",
    "    title.append(i.title)\n",
    "    created_utc.append(i.created_utc)"
   ]
  },
  {
   "cell_type": "code",
   "execution_count": 6,
   "id": "883a8bbc-fceb-42b9-89c7-b1594764cfd8",
   "metadata": {},
   "outputs": [
    {
     "data": {
      "text/html": [
       "<div>\n",
       "<style scoped>\n",
       "    .dataframe tbody tr th:only-of-type {\n",
       "        vertical-align: middle;\n",
       "    }\n",
       "\n",
       "    .dataframe tbody tr th {\n",
       "        vertical-align: top;\n",
       "    }\n",
       "\n",
       "    .dataframe thead th {\n",
       "        text-align: right;\n",
       "    }\n",
       "</style>\n",
       "<table border=\"1\" class=\"dataframe\">\n",
       "  <thead>\n",
       "    <tr style=\"text-align: right;\">\n",
       "      <th></th>\n",
       "      <th>subreddit</th>\n",
       "      <th>selftext</th>\n",
       "      <th>title</th>\n",
       "      <th>created_utc</th>\n",
       "    </tr>\n",
       "  </thead>\n",
       "  <tbody>\n",
       "    <tr>\n",
       "      <th>0</th>\n",
       "      <td>AttachmentParenting</td>\n",
       "      <td>I just feel so bad. He doesn’t show any real h...</td>\n",
       "      <td>I feel like I don’t know what my baby needs :(</td>\n",
       "      <td>1.673633e+09</td>\n",
       "    </tr>\n",
       "    <tr>\n",
       "      <th>1</th>\n",
       "      <td>AttachmentParenting</td>\n",
       "      <td>Book recommendations? For me, not my child. Al...</td>\n",
       "      <td>Book recommendations for parenting neurodiverg...</td>\n",
       "      <td>1.673629e+09</td>\n",
       "    </tr>\n",
       "    <tr>\n",
       "      <th>2</th>\n",
       "      <td>AttachmentParenting</td>\n",
       "      <td>Has anyone had to deal with pushback on coslee...</td>\n",
       "      <td>Partner pushing to CIO</td>\n",
       "      <td>1.673627e+09</td>\n",
       "    </tr>\n",
       "    <tr>\n",
       "      <th>3</th>\n",
       "      <td>AttachmentParenting</td>\n",
       "      <td>My little one is almost 10 months old. She sle...</td>\n",
       "      <td>Sleep Help</td>\n",
       "      <td>1.673627e+09</td>\n",
       "    </tr>\n",
       "    <tr>\n",
       "      <th>4</th>\n",
       "      <td>AttachmentParenting</td>\n",
       "      <td>We introduced purées at 6 months and have trie...</td>\n",
       "      <td>Baby not interested in food at 7 months - what...</td>\n",
       "      <td>1.673588e+09</td>\n",
       "    </tr>\n",
       "  </tbody>\n",
       "</table>\n",
       "</div>"
      ],
      "text/plain": [
       "             subreddit                                           selftext  \\\n",
       "0  AttachmentParenting  I just feel so bad. He doesn’t show any real h...   \n",
       "1  AttachmentParenting  Book recommendations? For me, not my child. Al...   \n",
       "2  AttachmentParenting  Has anyone had to deal with pushback on coslee...   \n",
       "3  AttachmentParenting  My little one is almost 10 months old. She sle...   \n",
       "4  AttachmentParenting  We introduced purées at 6 months and have trie...   \n",
       "\n",
       "                                               title   created_utc  \n",
       "0     I feel like I don’t know what my baby needs :(  1.673633e+09  \n",
       "1  Book recommendations for parenting neurodiverg...  1.673629e+09  \n",
       "2                             Partner pushing to CIO  1.673627e+09  \n",
       "3                                         Sleep Help  1.673627e+09  \n",
       "4  Baby not interested in food at 7 months - what...  1.673588e+09  "
      ]
     },
     "execution_count": 6,
     "metadata": {},
     "output_type": "execute_result"
    }
   ],
   "source": [
    "# Creating dataframe from pulled data columns\n",
    "ap_posts = pd.DataFrame()\n",
    "ap_posts['subreddit'] = subreddit\n",
    "ap_posts['selftext'] = selftext\n",
    "ap_posts['title'] = title\n",
    "ap_posts['created_utc'] = created_utc\n",
    "ap_posts.head()"
   ]
  },
  {
   "cell_type": "code",
   "execution_count": 7,
   "id": "024c24ed-eaa5-4dbe-8b15-2f10f9612c78",
   "metadata": {},
   "outputs": [],
   "source": [
    "# Writing for loop to pull columns to make dataframe\n",
    "subreddit = []\n",
    "selftext = []\n",
    "title = []\n",
    "created_utc = []\n",
    "for i in st_posts:\n",
    "    subreddit.append(i.subreddit)\n",
    "    selftext.append(i.selftext)\n",
    "    title.append(i.title)\n",
    "    created_utc.append(i.created_utc)"
   ]
  },
  {
   "cell_type": "code",
   "execution_count": 8,
   "id": "da06a9f6-141b-40a0-b1ba-7b0bcfb9dba5",
   "metadata": {},
   "outputs": [
    {
     "data": {
      "text/html": [
       "<div>\n",
       "<style scoped>\n",
       "    .dataframe tbody tr th:only-of-type {\n",
       "        vertical-align: middle;\n",
       "    }\n",
       "\n",
       "    .dataframe tbody tr th {\n",
       "        vertical-align: top;\n",
       "    }\n",
       "\n",
       "    .dataframe thead th {\n",
       "        text-align: right;\n",
       "    }\n",
       "</style>\n",
       "<table border=\"1\" class=\"dataframe\">\n",
       "  <thead>\n",
       "    <tr style=\"text-align: right;\">\n",
       "      <th></th>\n",
       "      <th>subreddit</th>\n",
       "      <th>selftext</th>\n",
       "      <th>title</th>\n",
       "      <th>created_utc</th>\n",
       "    </tr>\n",
       "  </thead>\n",
       "  <tbody>\n",
       "    <tr>\n",
       "      <th>0</th>\n",
       "      <td>sleeptrain</td>\n",
       "      <td>Up to about 11 months LO was in bed for 12 hou...</td>\n",
       "      <td>sleep training help</td>\n",
       "      <td>1.673641e+09</td>\n",
       "    </tr>\n",
       "    <tr>\n",
       "      <th>1</th>\n",
       "      <td>sleeptrain</td>\n",
       "      <td>I legitimately need help thinking right now- I...</td>\n",
       "      <td>5 month old still not sleeping- need help.</td>\n",
       "      <td>1.673640e+09</td>\n",
       "    </tr>\n",
       "    <tr>\n",
       "      <th>2</th>\n",
       "      <td>sleeptrain</td>\n",
       "      <td>3.5 month old, but this has been going on for ...</td>\n",
       "      <td>Baby Cries Every Bedtime</td>\n",
       "      <td>1.673639e+09</td>\n",
       "    </tr>\n",
       "    <tr>\n",
       "      <th>3</th>\n",
       "      <td>sleeptrain</td>\n",
       "      <td>So recently we had to retrain. We used ferber ...</td>\n",
       "      <td>Waking up with 💩 in the diaper???</td>\n",
       "      <td>1.673638e+09</td>\n",
       "    </tr>\n",
       "    <tr>\n",
       "      <th>4</th>\n",
       "      <td>sleeptrain</td>\n",
       "      <td>My 5.5 month always wakes through the night. I...</td>\n",
       "      <td>I bought the little ones app for my 5.5 month ...</td>\n",
       "      <td>1.673638e+09</td>\n",
       "    </tr>\n",
       "  </tbody>\n",
       "</table>\n",
       "</div>"
      ],
      "text/plain": [
       "    subreddit                                           selftext  \\\n",
       "0  sleeptrain  Up to about 11 months LO was in bed for 12 hou...   \n",
       "1  sleeptrain  I legitimately need help thinking right now- I...   \n",
       "2  sleeptrain  3.5 month old, but this has been going on for ...   \n",
       "3  sleeptrain  So recently we had to retrain. We used ferber ...   \n",
       "4  sleeptrain  My 5.5 month always wakes through the night. I...   \n",
       "\n",
       "                                               title   created_utc  \n",
       "0                                sleep training help  1.673641e+09  \n",
       "1         5 month old still not sleeping- need help.  1.673640e+09  \n",
       "2                           Baby Cries Every Bedtime  1.673639e+09  \n",
       "3                  Waking up with 💩 in the diaper???  1.673638e+09  \n",
       "4  I bought the little ones app for my 5.5 month ...  1.673638e+09  "
      ]
     },
     "execution_count": 8,
     "metadata": {},
     "output_type": "execute_result"
    }
   ],
   "source": [
    "# Creating dataframe from pulled data columns\n",
    "st_posts = pd.DataFrame()\n",
    "st_posts['subreddit'] = subreddit\n",
    "st_posts['selftext'] = selftext\n",
    "st_posts['title'] = title\n",
    "st_posts['created_utc'] = created_utc\n",
    "st_posts.head()"
   ]
  },
  {
   "cell_type": "code",
   "execution_count": 9,
   "id": "7ac59f77-8508-4e41-b49f-25b31ae8c5ea",
   "metadata": {},
   "outputs": [
    {
     "data": {
      "text/plain": [
       "(996, 4)"
      ]
     },
     "execution_count": 9,
     "metadata": {},
     "output_type": "execute_result"
    }
   ],
   "source": [
    "# Checking shape of sleep train df\n",
    "st_posts.shape"
   ]
  },
  {
   "cell_type": "code",
   "execution_count": 10,
   "id": "0b9d837c-48dc-457b-b433-1935eb2e53e1",
   "metadata": {},
   "outputs": [
    {
     "data": {
      "text/plain": [
       "(995, 4)"
      ]
     },
     "execution_count": 10,
     "metadata": {},
     "output_type": "execute_result"
    }
   ],
   "source": [
    "# Checking shape of attachemnt parenting df\n",
    "ap_posts.shape"
   ]
  },
  {
   "cell_type": "code",
   "execution_count": 11,
   "id": "dfd2bbdb-caed-4680-9041-5182919bb306",
   "metadata": {},
   "outputs": [
    {
     "data": {
      "text/plain": [
       "(1991, 4)"
      ]
     },
     "execution_count": 11,
     "metadata": {},
     "output_type": "execute_result"
    }
   ],
   "source": [
    "# Concatenating ap and sl dataframes together\n",
    "combined = [st_posts, ap_posts]\n",
    "df = pd.concat(combined, ignore_index = True)\n",
    "df.shape"
   ]
  },
  {
   "cell_type": "code",
   "execution_count": 12,
   "id": "f85da844-06ca-49c6-be82-ea460649c664",
   "metadata": {},
   "outputs": [],
   "source": [
    "# Saving to CSV\n",
    "df.to_csv('../project-3/data/sleep_data_2.csv')"
   ]
  },
  {
   "cell_type": "markdown",
   "id": "9e1d130a-70f1-42d4-b473-5c1a72a42cef",
   "metadata": {},
   "source": [
    "### Combining my 2 separate pulls into one DF"
   ]
  },
  {
   "cell_type": "code",
   "execution_count": 13,
   "id": "1db40ec4-bd3d-421f-acda-d9d3864c95c9",
   "metadata": {},
   "outputs": [],
   "source": [
    "# Reading in my CSV's of pulled data\n",
    "praw_1 = pd.read_csv('../project-3/data/sleep_data.csv', index_col = False)\n",
    "praw_2 = pd.read_csv('../project-3/data/sleep_data_2.csv')"
   ]
  },
  {
   "cell_type": "code",
   "execution_count": 14,
   "id": "81235125-ed32-4bf1-8dd3-bf6b569cb4c3",
   "metadata": {},
   "outputs": [
    {
     "data": {
      "text/html": [
       "<div>\n",
       "<style scoped>\n",
       "    .dataframe tbody tr th:only-of-type {\n",
       "        vertical-align: middle;\n",
       "    }\n",
       "\n",
       "    .dataframe tbody tr th {\n",
       "        vertical-align: top;\n",
       "    }\n",
       "\n",
       "    .dataframe thead th {\n",
       "        text-align: right;\n",
       "    }\n",
       "</style>\n",
       "<table border=\"1\" class=\"dataframe\">\n",
       "  <thead>\n",
       "    <tr style=\"text-align: right;\">\n",
       "      <th></th>\n",
       "      <th>Unnamed: 0</th>\n",
       "      <th>subreddit</th>\n",
       "      <th>selftext</th>\n",
       "      <th>title</th>\n",
       "      <th>created_utc</th>\n",
       "    </tr>\n",
       "  </thead>\n",
       "  <tbody>\n",
       "    <tr>\n",
       "      <th>0</th>\n",
       "      <td>0</td>\n",
       "      <td>sleeptrain</td>\n",
       "      <td>It’s been months now of my LO waking at night....</td>\n",
       "      <td>I’m really feeling I’ve hit my limit</td>\n",
       "      <td>1.673296e+09</td>\n",
       "    </tr>\n",
       "  </tbody>\n",
       "</table>\n",
       "</div>"
      ],
      "text/plain": [
       "   Unnamed: 0   subreddit                                           selftext  \\\n",
       "0           0  sleeptrain  It’s been months now of my LO waking at night....   \n",
       "\n",
       "                                  title   created_utc  \n",
       "0  I’m really feeling I’ve hit my limit  1.673296e+09  "
      ]
     },
     "execution_count": 14,
     "metadata": {},
     "output_type": "execute_result"
    }
   ],
   "source": [
    "praw_1.head(1)"
   ]
  },
  {
   "cell_type": "code",
   "execution_count": 15,
   "id": "184102d2-e055-4d7f-908b-d4ca0d07238f",
   "metadata": {},
   "outputs": [
    {
     "data": {
      "text/plain": [
       "(3982, 5)"
      ]
     },
     "execution_count": 15,
     "metadata": {},
     "output_type": "execute_result"
    }
   ],
   "source": [
    "# Concatenating my DFs\n",
    "combined_2_praw = [praw_1, praw_2]\n",
    "df = pd.concat(combined_2_praw, ignore_index = True)\n",
    "df.shape"
   ]
  },
  {
   "cell_type": "code",
   "execution_count": 16,
   "id": "4e282492-9cb6-473d-807e-12a49540dd42",
   "metadata": {},
   "outputs": [
    {
     "data": {
      "text/plain": [
       "(3982, 5)"
      ]
     },
     "execution_count": 16,
     "metadata": {},
     "output_type": "execute_result"
    }
   ],
   "source": [
    "# dropping any duplicate columns\n",
    "df.drop_duplicates()\n",
    "df.shape"
   ]
  },
  {
   "cell_type": "markdown",
   "id": "c0cbc327-b4a4-41a7-bfc2-501027dbdac2",
   "metadata": {},
   "source": [
    "#### I did not get any change in shape suggesting that I did not have any duplicate columns. I am going to check the UTC time stamps to make sure I do not have any duplicate rows in my pulled data."
   ]
  },
  {
   "cell_type": "code",
   "execution_count": 17,
   "id": "07252bea-197d-4a9d-843d-0a12c179b703",
   "metadata": {},
   "outputs": [
    {
     "data": {
      "text/html": [
       "<div>\n",
       "<style scoped>\n",
       "    .dataframe tbody tr th:only-of-type {\n",
       "        vertical-align: middle;\n",
       "    }\n",
       "\n",
       "    .dataframe tbody tr th {\n",
       "        vertical-align: top;\n",
       "    }\n",
       "\n",
       "    .dataframe thead th {\n",
       "        text-align: right;\n",
       "    }\n",
       "</style>\n",
       "<table border=\"1\" class=\"dataframe\">\n",
       "  <thead>\n",
       "    <tr style=\"text-align: right;\">\n",
       "      <th></th>\n",
       "      <th>Unnamed: 0</th>\n",
       "      <th>subreddit</th>\n",
       "      <th>selftext</th>\n",
       "      <th>title</th>\n",
       "      <th>created_utc</th>\n",
       "    </tr>\n",
       "  </thead>\n",
       "  <tbody>\n",
       "    <tr>\n",
       "      <th>1891</th>\n",
       "      <td>893</td>\n",
       "      <td>AttachmentParenting</td>\n",
       "      <td>I realise that a good part of these feelings c...</td>\n",
       "      <td>how do you not just quit your job and pull you...</td>\n",
       "      <td>1.655724e+09</td>\n",
       "    </tr>\n",
       "    <tr>\n",
       "      <th>1892</th>\n",
       "      <td>894</td>\n",
       "      <td>AttachmentParenting</td>\n",
       "      <td>Oh boy, have I given myself the trifecta. My 1...</td>\n",
       "      <td>Starting daycare, weaning and nap transitions</td>\n",
       "      <td>1.655719e+09</td>\n",
       "    </tr>\n",
       "    <tr>\n",
       "      <th>1893</th>\n",
       "      <td>895</td>\n",
       "      <td>AttachmentParenting</td>\n",
       "      <td>My son is 16 months old and I am 15 weeks preg...</td>\n",
       "      <td>How to wean fast but gently?</td>\n",
       "      <td>1.655719e+09</td>\n",
       "    </tr>\n",
       "    <tr>\n",
       "      <th>1894</th>\n",
       "      <td>896</td>\n",
       "      <td>AttachmentParenting</td>\n",
       "      <td>My daughter is turning 9 months at the end of ...</td>\n",
       "      <td>Safe Sleep and crawling?</td>\n",
       "      <td>1.655719e+09</td>\n",
       "    </tr>\n",
       "    <tr>\n",
       "      <th>1895</th>\n",
       "      <td>897</td>\n",
       "      <td>AttachmentParenting</td>\n",
       "      <td>My 11m girl is super happy. She’s crawling, ve...</td>\n",
       "      <td>What do y’all do with them all day?</td>\n",
       "      <td>1.655666e+09</td>\n",
       "    </tr>\n",
       "    <tr>\n",
       "      <th>...</th>\n",
       "      <td>...</td>\n",
       "      <td>...</td>\n",
       "      <td>...</td>\n",
       "      <td>...</td>\n",
       "      <td>...</td>\n",
       "    </tr>\n",
       "    <tr>\n",
       "      <th>1986</th>\n",
       "      <td>988</td>\n",
       "      <td>AttachmentParenting</td>\n",
       "      <td>I am going through some depression right now a...</td>\n",
       "      <td>How to be a good mom through a bout of depress...</td>\n",
       "      <td>1.654215e+09</td>\n",
       "    </tr>\n",
       "    <tr>\n",
       "      <th>1987</th>\n",
       "      <td>989</td>\n",
       "      <td>AttachmentParenting</td>\n",
       "      <td>Hello! My name is Valerie Swisher. I am a rece...</td>\n",
       "      <td>[Research Study] Health and Behavior in Infant...</td>\n",
       "      <td>1.654199e+09</td>\n",
       "    </tr>\n",
       "    <tr>\n",
       "      <th>1988</th>\n",
       "      <td>990</td>\n",
       "      <td>AttachmentParenting</td>\n",
       "      <td>My son is a notorious independent cat napper w...</td>\n",
       "      <td>Concerned about total daytime sleep for 5mo — ...</td>\n",
       "      <td>1.654186e+09</td>\n",
       "    </tr>\n",
       "    <tr>\n",
       "      <th>1989</th>\n",
       "      <td>991</td>\n",
       "      <td>AttachmentParenting</td>\n",
       "      <td>I posted this on the breastfeeding sub but did...</td>\n",
       "      <td>How to manage night feeding and toddler tooth ...</td>\n",
       "      <td>1.654175e+09</td>\n",
       "    </tr>\n",
       "    <tr>\n",
       "      <th>1990</th>\n",
       "      <td>992</td>\n",
       "      <td>AttachmentParenting</td>\n",
       "      <td>This has been going on for a few weeks. She ge...</td>\n",
       "      <td>11 month old will not go back to sleep at night</td>\n",
       "      <td>1.654144e+09</td>\n",
       "    </tr>\n",
       "  </tbody>\n",
       "</table>\n",
       "<p>100 rows × 5 columns</p>\n",
       "</div>"
      ],
      "text/plain": [
       "      Unnamed: 0            subreddit  \\\n",
       "1891         893  AttachmentParenting   \n",
       "1892         894  AttachmentParenting   \n",
       "1893         895  AttachmentParenting   \n",
       "1894         896  AttachmentParenting   \n",
       "1895         897  AttachmentParenting   \n",
       "...          ...                  ...   \n",
       "1986         988  AttachmentParenting   \n",
       "1987         989  AttachmentParenting   \n",
       "1988         990  AttachmentParenting   \n",
       "1989         991  AttachmentParenting   \n",
       "1990         992  AttachmentParenting   \n",
       "\n",
       "                                               selftext  \\\n",
       "1891  I realise that a good part of these feelings c...   \n",
       "1892  Oh boy, have I given myself the trifecta. My 1...   \n",
       "1893  My son is 16 months old and I am 15 weeks preg...   \n",
       "1894  My daughter is turning 9 months at the end of ...   \n",
       "1895  My 11m girl is super happy. She’s crawling, ve...   \n",
       "...                                                 ...   \n",
       "1986  I am going through some depression right now a...   \n",
       "1987  Hello! My name is Valerie Swisher. I am a rece...   \n",
       "1988  My son is a notorious independent cat napper w...   \n",
       "1989  I posted this on the breastfeeding sub but did...   \n",
       "1990  This has been going on for a few weeks. She ge...   \n",
       "\n",
       "                                                  title   created_utc  \n",
       "1891  how do you not just quit your job and pull you...  1.655724e+09  \n",
       "1892      Starting daycare, weaning and nap transitions  1.655719e+09  \n",
       "1893                       How to wean fast but gently?  1.655719e+09  \n",
       "1894                           Safe Sleep and crawling?  1.655719e+09  \n",
       "1895                What do y’all do with them all day?  1.655666e+09  \n",
       "...                                                 ...           ...  \n",
       "1986  How to be a good mom through a bout of depress...  1.654215e+09  \n",
       "1987  [Research Study] Health and Behavior in Infant...  1.654199e+09  \n",
       "1988  Concerned about total daytime sleep for 5mo — ...  1.654186e+09  \n",
       "1989  How to manage night feeding and toddler tooth ...  1.654175e+09  \n",
       "1990    11 month old will not go back to sleep at night  1.654144e+09  \n",
       "\n",
       "[100 rows x 5 columns]"
      ]
     },
     "execution_count": 17,
     "metadata": {},
     "output_type": "execute_result"
    }
   ],
   "source": [
    "praw_1.tail(100)"
   ]
  },
  {
   "cell_type": "code",
   "execution_count": 18,
   "id": "04d96ac3-c344-49f6-9fd3-682631e26f5f",
   "metadata": {},
   "outputs": [
    {
     "data": {
      "text/html": [
       "<div>\n",
       "<style scoped>\n",
       "    .dataframe tbody tr th:only-of-type {\n",
       "        vertical-align: middle;\n",
       "    }\n",
       "\n",
       "    .dataframe tbody tr th {\n",
       "        vertical-align: top;\n",
       "    }\n",
       "\n",
       "    .dataframe thead th {\n",
       "        text-align: right;\n",
       "    }\n",
       "</style>\n",
       "<table border=\"1\" class=\"dataframe\">\n",
       "  <thead>\n",
       "    <tr style=\"text-align: right;\">\n",
       "      <th></th>\n",
       "      <th>subreddit</th>\n",
       "      <th>selftext</th>\n",
       "      <th>title</th>\n",
       "      <th>created_utc</th>\n",
       "    </tr>\n",
       "  </thead>\n",
       "  <tbody>\n",
       "    <tr>\n",
       "      <th>0</th>\n",
       "      <td>AttachmentParenting</td>\n",
       "      <td>I just feel so bad. He doesn’t show any real h...</td>\n",
       "      <td>I feel like I don’t know what my baby needs :(</td>\n",
       "      <td>1.673633e+09</td>\n",
       "    </tr>\n",
       "    <tr>\n",
       "      <th>1</th>\n",
       "      <td>AttachmentParenting</td>\n",
       "      <td>Book recommendations? For me, not my child. Al...</td>\n",
       "      <td>Book recommendations for parenting neurodiverg...</td>\n",
       "      <td>1.673629e+09</td>\n",
       "    </tr>\n",
       "    <tr>\n",
       "      <th>2</th>\n",
       "      <td>AttachmentParenting</td>\n",
       "      <td>Has anyone had to deal with pushback on coslee...</td>\n",
       "      <td>Partner pushing to CIO</td>\n",
       "      <td>1.673627e+09</td>\n",
       "    </tr>\n",
       "    <tr>\n",
       "      <th>3</th>\n",
       "      <td>AttachmentParenting</td>\n",
       "      <td>My little one is almost 10 months old. She sle...</td>\n",
       "      <td>Sleep Help</td>\n",
       "      <td>1.673627e+09</td>\n",
       "    </tr>\n",
       "    <tr>\n",
       "      <th>4</th>\n",
       "      <td>AttachmentParenting</td>\n",
       "      <td>We introduced purées at 6 months and have trie...</td>\n",
       "      <td>Baby not interested in food at 7 months - what...</td>\n",
       "      <td>1.673588e+09</td>\n",
       "    </tr>\n",
       "  </tbody>\n",
       "</table>\n",
       "</div>"
      ],
      "text/plain": [
       "             subreddit                                           selftext  \\\n",
       "0  AttachmentParenting  I just feel so bad. He doesn’t show any real h...   \n",
       "1  AttachmentParenting  Book recommendations? For me, not my child. Al...   \n",
       "2  AttachmentParenting  Has anyone had to deal with pushback on coslee...   \n",
       "3  AttachmentParenting  My little one is almost 10 months old. She sle...   \n",
       "4  AttachmentParenting  We introduced purées at 6 months and have trie...   \n",
       "\n",
       "                                               title   created_utc  \n",
       "0     I feel like I don’t know what my baby needs :(  1.673633e+09  \n",
       "1  Book recommendations for parenting neurodiverg...  1.673629e+09  \n",
       "2                             Partner pushing to CIO  1.673627e+09  \n",
       "3                                         Sleep Help  1.673627e+09  \n",
       "4  Baby not interested in food at 7 months - what...  1.673588e+09  "
      ]
     },
     "execution_count": 18,
     "metadata": {},
     "output_type": "execute_result"
    }
   ],
   "source": [
    "ap_posts.head()"
   ]
  },
  {
   "cell_type": "markdown",
   "id": "279c4664-dd66-44ac-9f30-f7303f71395c",
   "metadata": {},
   "source": [
    "#### According to my time stamps my I should not have nay duplicates in my rows. "
   ]
  },
  {
   "cell_type": "code",
   "execution_count": 19,
   "id": "ca69c03c-9b50-4cf3-9767-7f238ae73e3d",
   "metadata": {},
   "outputs": [],
   "source": [
    "# Saving my combined df as a CSV\n",
    "df.to_csv('../project-3/data/subreddit_data.csv')"
   ]
  },
  {
   "cell_type": "code",
   "execution_count": null,
   "id": "8e7f4a3c-f0ea-4cc2-8765-0267333b4df7",
   "metadata": {},
   "outputs": [],
   "source": []
  }
 ],
 "metadata": {
  "kernelspec": {
   "display_name": "Python 3 (ipykernel)",
   "language": "python",
   "name": "python3"
  },
  "language_info": {
   "codemirror_mode": {
    "name": "ipython",
    "version": 3
   },
   "file_extension": ".py",
   "mimetype": "text/x-python",
   "name": "python",
   "nbconvert_exporter": "python",
   "pygments_lexer": "ipython3",
   "version": "3.9.13"
  }
 },
 "nbformat": 4,
 "nbformat_minor": 5
}
