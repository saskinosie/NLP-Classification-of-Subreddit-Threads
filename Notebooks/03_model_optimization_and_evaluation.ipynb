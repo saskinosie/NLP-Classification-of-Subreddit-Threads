{
 "cells": [
  {
   "cell_type": "markdown",
   "id": "dddee924-db22-4fe9-8e52-f120866c1ce1",
   "metadata": {},
   "source": [
    "# Project 3 Notebook 3 - Model Benchmarks and Tuning"
   ]
  },
  {
   "cell_type": "code",
   "execution_count": 518,
   "id": "71726211-8555-4a90-8cbc-49de779d5ceb",
   "metadata": {},
   "outputs": [],
   "source": [
    "# Imports\n",
    "import pandas as pd\n",
    "import numpy as np\n",
    "from sklearn.pipeline import Pipeline\n",
    "from sklearn.ensemble import StackingClassifier, RandomForestClassifier, AdaBoostClassifier\n",
    "from sklearn.model_selection import train_test_split, cross_val_score, GridSearchCV\n",
    "from sklearn.naive_bayes import MultinomialNB\n",
    "from sklearn.feature_extraction.text import CountVectorizer, TfidfVectorizer\n",
    "from sklearn.tree import DecisionTreeClassifier\n",
    "from sklearn.neighbors import KNeighborsClassifier\n",
    "from sklearn.linear_model import LogisticRegression\n",
    "from nltk.corpus import stopwords\n",
    "from nltk.stem import WordNetLemmatizer\n",
    "from sklearn.metrics import (confusion_matrix, ConfusionMatrixDisplay,\n",
    "    accuracy_score, roc_auc_score, recall_score,\n",
    "    precision_score, f1_score, RocCurveDisplay)"
   ]
  },
  {
   "cell_type": "code",
   "execution_count": 422,
   "id": "574e33b5-6368-4b3a-9941-afbf49d3f78d",
   "metadata": {},
   "outputs": [
    {
     "data": {
      "text/html": [
       "<div>\n",
       "<style scoped>\n",
       "    .dataframe tbody tr th:only-of-type {\n",
       "        vertical-align: middle;\n",
       "    }\n",
       "\n",
       "    .dataframe tbody tr th {\n",
       "        vertical-align: top;\n",
       "    }\n",
       "\n",
       "    .dataframe thead th {\n",
       "        text-align: right;\n",
       "    }\n",
       "</style>\n",
       "<table border=\"1\" class=\"dataframe\">\n",
       "  <thead>\n",
       "    <tr style=\"text-align: right;\">\n",
       "      <th></th>\n",
       "      <th>subreddit</th>\n",
       "      <th>title</th>\n",
       "    </tr>\n",
       "  </thead>\n",
       "  <tbody>\n",
       "    <tr>\n",
       "      <th>0</th>\n",
       "      <td>sleeptrain</td>\n",
       "      <td>I’m really feeling I’ve hit my limit</td>\n",
       "    </tr>\n",
       "    <tr>\n",
       "      <th>1</th>\n",
       "      <td>sleeptrain</td>\n",
       "      <td>How do you actually do PUPD?</td>\n",
       "    </tr>\n",
       "    <tr>\n",
       "      <th>2</th>\n",
       "      <td>sleeptrain</td>\n",
       "      <td>Going insane with early wakes.</td>\n",
       "    </tr>\n",
       "    <tr>\n",
       "      <th>3</th>\n",
       "      <td>sleeptrain</td>\n",
       "      <td>How did you extend nap time in crib?</td>\n",
       "    </tr>\n",
       "    <tr>\n",
       "      <th>4</th>\n",
       "      <td>sleeptrain</td>\n",
       "      <td>2.5 year old waking throughout night</td>\n",
       "    </tr>\n",
       "  </tbody>\n",
       "</table>\n",
       "</div>"
      ],
      "text/plain": [
       "    subreddit                                 title\n",
       "0  sleeptrain  I’m really feeling I’ve hit my limit\n",
       "1  sleeptrain          How do you actually do PUPD?\n",
       "2  sleeptrain        Going insane with early wakes.\n",
       "3  sleeptrain  How did you extend nap time in crib?\n",
       "4  sleeptrain  2.5 year old waking throughout night"
      ]
     },
     "execution_count": 422,
     "metadata": {},
     "output_type": "execute_result"
    }
   ],
   "source": [
    "# Reading in Subreddit column and Title column\n",
    "df = pd.read_csv('../project-3/data/subreddit_data.csv', usecols=[2,4])\n",
    "df.head()"
   ]
  },
  {
   "cell_type": "markdown",
   "id": "294d03de-4c76-4107-9bec-89782032a32e",
   "metadata": {
    "tags": []
   },
   "source": [
    "#### My EDA indicated that although my Subreddit titles are somewhat similar there appear to be enough differences to make the modeling both possible and challenging. Therefore, I will use the Sureddit titles for modeling."
   ]
  },
  {
   "cell_type": "code",
   "execution_count": 423,
   "id": "84882877-3810-45e9-b023-3ea1de1ac26e",
   "metadata": {},
   "outputs": [
    {
     "data": {
      "text/plain": [
       "sleeptrain             0.500753\n",
       "AttachmentParenting    0.499247\n",
       "Name: subreddit, dtype: float64"
      ]
     },
     "execution_count": 423,
     "metadata": {},
     "output_type": "execute_result"
    }
   ],
   "source": [
    "# Checking value counts of my target variable\n",
    "df['subreddit'].value_counts(normalize = True)"
   ]
  },
  {
   "cell_type": "markdown",
   "id": "a40a3c3d-b410-4d48-871c-c6cb0ef8a561",
   "metadata": {},
   "source": [
    "#### According to my value counts, my null model for my leading target is approximately 50%."
   ]
  },
  {
   "cell_type": "code",
   "execution_count": 424,
   "id": "42dd2e9c-36a2-482a-9490-a3143c6f4dd7",
   "metadata": {},
   "outputs": [],
   "source": [
    "# Changing Subreddit Attachment PArenting to 1 and Sleep Training to 0\n",
    "df['subreddit'] = df['subreddit'].replace({'AttachmentParenting' : 0, 'sleeptrain' : 1})"
   ]
  },
  {
   "cell_type": "markdown",
   "id": "bce0ef29-3c9f-4393-9ac0-0d7a50b1a203",
   "metadata": {},
   "source": [
    "#### My EDA indicated that the Subreddit Title words (Sleep Training and Attachment Parenting) showed up a frequently in the respective Subreddit post titles. Therefore, I want to remove the words sleep, training, attachment, parenting and their variations to prevent my model from easily detecting which Subreddit category they came from."
   ]
  },
  {
   "cell_type": "code",
   "execution_count": 425,
   "id": "84eb3a1c-b664-4304-9a22-b2b32aa3099c",
   "metadata": {},
   "outputs": [
    {
     "data": {
      "text/html": [
       "<div>\n",
       "<style scoped>\n",
       "    .dataframe tbody tr th:only-of-type {\n",
       "        vertical-align: middle;\n",
       "    }\n",
       "\n",
       "    .dataframe tbody tr th {\n",
       "        vertical-align: top;\n",
       "    }\n",
       "\n",
       "    .dataframe thead th {\n",
       "        text-align: right;\n",
       "    }\n",
       "</style>\n",
       "<table border=\"1\" class=\"dataframe\">\n",
       "  <thead>\n",
       "    <tr style=\"text-align: right;\">\n",
       "      <th></th>\n",
       "      <th>subreddit</th>\n",
       "      <th>title</th>\n",
       "    </tr>\n",
       "  </thead>\n",
       "  <tbody>\n",
       "    <tr>\n",
       "      <th>0</th>\n",
       "      <td>1</td>\n",
       "      <td>I’m really feeling I’ve hit my limit</td>\n",
       "    </tr>\n",
       "    <tr>\n",
       "      <th>1</th>\n",
       "      <td>1</td>\n",
       "      <td>How do you actually do PUPD?</td>\n",
       "    </tr>\n",
       "    <tr>\n",
       "      <th>2</th>\n",
       "      <td>1</td>\n",
       "      <td>Going insane with early wakes.</td>\n",
       "    </tr>\n",
       "    <tr>\n",
       "      <th>3</th>\n",
       "      <td>1</td>\n",
       "      <td>How did you extend nap time in crib?</td>\n",
       "    </tr>\n",
       "    <tr>\n",
       "      <th>4</th>\n",
       "      <td>1</td>\n",
       "      <td>2.5 year old waking throughout night</td>\n",
       "    </tr>\n",
       "    <tr>\n",
       "      <th>5</th>\n",
       "      <td>1</td>\n",
       "      <td>Help troubleshooting MOTN wake ups</td>\n",
       "    </tr>\n",
       "    <tr>\n",
       "      <th>6</th>\n",
       "      <td>1</td>\n",
       "      <td>Preparing for sleep coaching baby</td>\n",
       "    </tr>\n",
       "    <tr>\n",
       "      <th>7</th>\n",
       "      <td>1</td>\n",
       "      <td>Disrupted night sleep after starting daycare</td>\n",
       "    </tr>\n",
       "    <tr>\n",
       "      <th>8</th>\n",
       "      <td>1</td>\n",
       "      <td>How long did it take to sleep train?</td>\n",
       "    </tr>\n",
       "    <tr>\n",
       "      <th>9</th>\n",
       "      <td>1</td>\n",
       "      <td>How should i go about doing this?</td>\n",
       "    </tr>\n",
       "  </tbody>\n",
       "</table>\n",
       "</div>"
      ],
      "text/plain": [
       "   subreddit                                         title\n",
       "0          1          I’m really feeling I’ve hit my limit\n",
       "1          1                  How do you actually do PUPD?\n",
       "2          1                Going insane with early wakes.\n",
       "3          1          How did you extend nap time in crib?\n",
       "4          1          2.5 year old waking throughout night\n",
       "5          1            Help troubleshooting MOTN wake ups\n",
       "6          1             Preparing for sleep coaching baby\n",
       "7          1  Disrupted night sleep after starting daycare\n",
       "8          1          How long did it take to sleep train?\n",
       "9          1             How should i go about doing this?"
      ]
     },
     "execution_count": 425,
     "metadata": {},
     "output_type": "execute_result"
    }
   ],
   "source": [
    "# Calling .head(10) to find at least one instance of Subreddit Title word in title of post. The word \n",
    "# 'sleep' is present at index 6\n",
    "df.head(10)"
   ]
  },
  {
   "cell_type": "code",
   "execution_count": 426,
   "id": "c9eeae19-6d9d-4a89-a60c-d6f4bde7c08a",
   "metadata": {},
   "outputs": [],
   "source": [
    "# Creating my X and y data. I wil also remove my Subreddit Title words from my post titles to prevent from having\n",
    "# to change my X and y variable names later. \n",
    "words_to_remove = '|'.join(['sleep', 'train', 'training', 'attachment', 'attach', 'parenting', 'parent','Sleep', 'Train', 'Training', 'Attachment', 'Attach', 'Parenting', 'Parent'])\n",
    "\n",
    "\n",
    "X = df['title'].str.replace(words_to_remove, '', regex = True)\n",
    "\n",
    "y = df['subreddit']"
   ]
  },
  {
   "cell_type": "code",
   "execution_count": 427,
   "id": "f45689f4-7407-426a-98df-2bfad19266bf",
   "metadata": {},
   "outputs": [
    {
     "data": {
      "text/plain": [
       "0       I’m really feeling I’ve hit my limit\n",
       "1               How do you actually do PUPD?\n",
       "2             Going insane with early wakes.\n",
       "3       How did you extend nap time in crib?\n",
       "4       2.5 year old waking throughout night\n",
       "5         Help troubleshooting MOTN wake ups\n",
       "6               Preparing for  coaching baby\n",
       "7    Disrupted night  after starting daycare\n",
       "8                 How long did it take to  ?\n",
       "9          How should i go about doing this?\n",
       "Name: title, dtype: object"
      ]
     },
     "execution_count": 427,
     "metadata": {},
     "output_type": "execute_result"
    }
   ],
   "source": [
    "# Checking .head(10) to ensure Subreddit Title word 'sleep' is removed from title of post index #6\n",
    "X.head(10)"
   ]
  },
  {
   "cell_type": "code",
   "execution_count": 428,
   "id": "270d1c32-d2f2-44ff-a57f-2f24bc998a68",
   "metadata": {},
   "outputs": [
    {
     "data": {
      "text/plain": [
       "0    1\n",
       "1    1\n",
       "2    1\n",
       "3    1\n",
       "4    1\n",
       "Name: subreddit, dtype: int64"
      ]
     },
     "execution_count": 428,
     "metadata": {},
     "output_type": "execute_result"
    }
   ],
   "source": [
    "# And a sanity check for y just in case\n",
    "y.head()"
   ]
  },
  {
   "cell_type": "markdown",
   "id": "b507506e-ecc3-4be6-920f-0f8405b5e74f",
   "metadata": {},
   "source": [
    "#### I will train test split my data using random state 42 and stratify to begin optimizing my models for predicting class based on Subreddit post title text."
   ]
  },
  {
   "cell_type": "code",
   "execution_count": 429,
   "id": "9b420fcf-b4a4-4244-ad93-64d9c0b1ccc8",
   "metadata": {},
   "outputs": [],
   "source": [
    "X_train, X_test, y_train, y_test = train_test_split(X, y, random_state = 42, stratify = y)"
   ]
  },
  {
   "cell_type": "markdown",
   "id": "32f0f757-fd39-4878-b453-86b8a4441646",
   "metadata": {},
   "source": [
    "# Modeling with base models and stop words included in my Subreddit post titles."
   ]
  },
  {
   "cell_type": "markdown",
   "id": "a9726dd7-a612-4d97-a00d-e3210d3b9ed4",
   "metadata": {},
   "source": [
    "#### Based on my EDA, I believe that my models should work best with cvec vectorization without stop words, using 2 grams and no lemmatization. However, I want to confirm this so I will run a few basic models without additional hyperparameter optimization initially to see if what I ascertained from my EDA is accurate."
   ]
  },
  {
   "cell_type": "markdown",
   "id": "b0980bd9-8305-4ad4-8bcd-8cfb892dd313",
   "metadata": {},
   "source": [
    "## cvec with multinomialNB"
   ]
  },
  {
   "cell_type": "code",
   "execution_count": 430,
   "id": "920842a8-229d-45d0-9d22-4403acdee20e",
   "metadata": {},
   "outputs": [
    {
     "name": "stdout",
     "output_type": "stream",
     "text": [
      "Cross_Val_Score: 0.7960465650437248\n"
     ]
    }
   ],
   "source": [
    "# Modeling with cvec and MultinomialNB and running cross val score\n",
    "pipe_cvec_nb = Pipeline([\n",
    "    ('cvec', CountVectorizer()),\n",
    "    ('nb', MultinomialNB())\n",
    "])\n",
    "\n",
    "print(f'Cross_Val_Score: {cross_val_score(pipe_cvec_nb, X_train, y_train, cv = 5).mean()}')"
   ]
  },
  {
   "cell_type": "code",
   "execution_count": 431,
   "id": "de386baa-449f-48b8-afd2-a955766174ca",
   "metadata": {},
   "outputs": [
    {
     "name": "stdout",
     "output_type": "stream",
     "text": [
      "Training Score: 0.8784326858673811\n",
      "Testing Score: 0.8192771084337349\n"
     ]
    }
   ],
   "source": [
    "# Looking at score for train and test data\n",
    "pipe_cvec_nb.fit(X_train, y_train)\n",
    "print(f'Training Score: {pipe_cvec_nb.score(X_train, y_train)}')\n",
    "print(f'Testing Score: {pipe_cvec_nb.score(X_test, y_test)}')"
   ]
  },
  {
   "cell_type": "markdown",
   "id": "176338a5-16d6-436e-ab7a-adb645a87f23",
   "metadata": {},
   "source": [
    "## tvec with multinomialNB"
   ]
  },
  {
   "cell_type": "code",
   "execution_count": 432,
   "id": "522cb5e9-baf7-4ec7-a16b-203671c83557",
   "metadata": {},
   "outputs": [
    {
     "name": "stdout",
     "output_type": "stream",
     "text": [
      "Cross_Val_Score: 0.8007355618673075\n"
     ]
    }
   ],
   "source": [
    "# Modeling with tvec and MultinomialNB and running cross val score.\n",
    "pipe_tvec_nb = Pipeline([\n",
    "    ('tvec', TfidfVectorizer()),\n",
    "    ('nb', MultinomialNB())\n",
    "])\n",
    "\n",
    "print(f'Cross_Val_Score: {cross_val_score(pipe_tvec_nb, X_train, y_train, cv = 5).mean()}')"
   ]
  },
  {
   "cell_type": "code",
   "execution_count": 433,
   "id": "f604c733-fcd0-495e-b1d2-a31468058307",
   "metadata": {},
   "outputs": [
    {
     "name": "stdout",
     "output_type": "stream",
     "text": [
      "Training Score: 0.891158740790355\n",
      "Testing Score: 0.8303212851405622\n"
     ]
    }
   ],
   "source": [
    "# Looking at score for train and test data\n",
    "pipe_tvec_nb.fit(X_train, y_train)\n",
    "print(f'Training Score: {pipe_tvec_nb.score(X_train, y_train)}')\n",
    "print(f'Testing Score: {pipe_tvec_nb.score(X_test, y_test)}')"
   ]
  },
  {
   "cell_type": "markdown",
   "id": "2d9115e0-7dae-4555-8e37-0871f7409bdd",
   "metadata": {},
   "source": [
    "#### The scores for my cvec and tvec are not far off. Surprisingly my tvec is better than my cvec. My EDA suggested that the cvec would be a better method for classification so I am looking forward to seeing what happens when I remove stop words later. Next I will try random forest classifier."
   ]
  },
  {
   "cell_type": "markdown",
   "id": "ec092d2d-99f3-4a24-80b4-9982f08c2c3e",
   "metadata": {},
   "source": [
    "## cvec with random forest"
   ]
  },
  {
   "cell_type": "code",
   "execution_count": 434,
   "id": "4435a598-6add-434d-9c20-4f0a7e437f7f",
   "metadata": {},
   "outputs": [
    {
     "name": "stdout",
     "output_type": "stream",
     "text": [
      "Cross_Val_Score: 0.8646958314426086\n"
     ]
    }
   ],
   "source": [
    "# Modeling with cvec and random forest and running cross val score\n",
    "pipe_cvec_rf = Pipeline([\n",
    "    ('cvec', CountVectorizer()),\n",
    "    ('rf', RandomForestClassifier())\n",
    "])\n",
    "\n",
    "print(f'Cross_Val_Score: {cross_val_score(pipe_cvec_rf, X_train, y_train, cv = 5).mean()}')"
   ]
  },
  {
   "cell_type": "code",
   "execution_count": 435,
   "id": "d5a8c57a-20d9-4011-8e17-09aa40c80bcb",
   "metadata": {},
   "outputs": [
    {
     "name": "stdout",
     "output_type": "stream",
     "text": [
      "Training Score: 0.9956463496316142\n",
      "Testing Score: 0.9016064257028112\n"
     ]
    }
   ],
   "source": [
    "# Looking at score for train and test data\n",
    "pipe_cvec_rf.fit(X_train, y_train)\n",
    "print(f'Training Score: {pipe_cvec_rf.score(X_train, y_train)}')\n",
    "print(f'Testing Score: {pipe_cvec_rf.score(X_test, y_test)}')"
   ]
  },
  {
   "cell_type": "markdown",
   "id": "93daf256-8a13-4f77-9d7f-acc268a8d65d",
   "metadata": {},
   "source": [
    "## tvec with random forest\n"
   ]
  },
  {
   "cell_type": "code",
   "execution_count": 436,
   "id": "7bddfc06-1b66-4c17-a3d9-04b0c8cf89e4",
   "metadata": {},
   "outputs": [
    {
     "name": "stdout",
     "output_type": "stream",
     "text": [
      "Cross_Val_Score: 0.8697226377147723\n"
     ]
    }
   ],
   "source": [
    "# Modeling with tvec and random forest and running cross val score\n",
    "pipe_tvec_rf = Pipeline([\n",
    "    ('tvec', TfidfVectorizer()),\n",
    "    ('rf', RandomForestClassifier())\n",
    "])\n",
    "\n",
    "print(f'Cross_Val_Score: {cross_val_score(pipe_tvec_rf, X_train, y_train, cv = 5).mean()}')"
   ]
  },
  {
   "cell_type": "code",
   "execution_count": 437,
   "id": "53c8968e-facc-4bfc-b661-78694de1219b",
   "metadata": {},
   "outputs": [
    {
     "name": "stdout",
     "output_type": "stream",
     "text": [
      "Training Score: 0.9956463496316142\n",
      "Testing Score: 0.8895582329317269\n"
     ]
    }
   ],
   "source": [
    "# Looking at score for train and test data\n",
    "pipe_tvec_rf.fit(X_train, y_train)\n",
    "print(f'Training Score: {pipe_tvec_rf.score(X_train, y_train)}')\n",
    "print(f'Testing Score: {pipe_tvec_rf.score(X_test, y_test)}')"
   ]
  },
  {
   "cell_type": "markdown",
   "id": "a25c9307-2a8c-46e0-a690-fe37d89a806a",
   "metadata": {},
   "source": [
    "#### This time my tvec scored a little bit higher on my cross val score but a little bit lower on my test score. Judging from my cross val score and my test score, random forest is a model I want to consider or my final model(s)."
   ]
  },
  {
   "cell_type": "markdown",
   "id": "deb1fd16-81d2-4a56-b010-2d1c27e68d8e",
   "metadata": {},
   "source": [
    "## cvec with KNN"
   ]
  },
  {
   "cell_type": "code",
   "execution_count": 438,
   "id": "e74708a8-8c63-4231-b8ec-abcace986fa2",
   "metadata": {},
   "outputs": [
    {
     "name": "stdout",
     "output_type": "stream",
     "text": [
      "Cross_Val_Score: 0.6908897889671322\n"
     ]
    }
   ],
   "source": [
    "# Modeling with cvec and K nearest neighbors and running cross val score\n",
    "pipe_cvec_kn = Pipeline([\n",
    "    ('cvec', CountVectorizer()),\n",
    "    ('knneighbors', KNeighborsClassifier())\n",
    "])\n",
    "\n",
    "print(f'Cross_Val_Score: {cross_val_score(pipe_cvec_kn, X_train, y_train, cv = 5).mean()}')"
   ]
  },
  {
   "cell_type": "code",
   "execution_count": 439,
   "id": "1bd1ae7f-f20c-4731-9760-792ca4e33093",
   "metadata": {},
   "outputs": [
    {
     "name": "stdout",
     "output_type": "stream",
     "text": [
      "Training Score: 0.8288680509042197\n",
      "Testing Score: 0.7218875502008032\n"
     ]
    }
   ],
   "source": [
    "# Looking at score for train and test data\n",
    "pipe_cvec_kn.fit(X_train, y_train)\n",
    "print(f'Training Score: {pipe_cvec_kn.score(X_train, y_train)}')\n",
    "print(f'Testing Score: {pipe_cvec_kn.score(X_test, y_test)}')"
   ]
  },
  {
   "cell_type": "markdown",
   "id": "0b54d653-f6b0-4e52-920f-6ea0b42f0549",
   "metadata": {},
   "source": [
    "## tvec with KNN"
   ]
  },
  {
   "cell_type": "code",
   "execution_count": 440,
   "id": "da786dca-7233-4391-880d-dc0c14781f67",
   "metadata": {},
   "outputs": [
    {
     "name": "stdout",
     "output_type": "stream",
     "text": [
      "Cross_Val_Score: 0.6908897889671322\n"
     ]
    }
   ],
   "source": [
    "# Modeling with tvec and K nearest neighbors and running cross val score\n",
    "pipe_tvec_kn = Pipeline([\n",
    "    ('cvec', CountVectorizer()),\n",
    "    ('knneighbors', KNeighborsClassifier())\n",
    "])\n",
    "\n",
    "print(f'Cross_Val_Score: {cross_val_score(pipe_tvec_kn, X_train, y_train, cv = 5).mean()}')"
   ]
  },
  {
   "cell_type": "code",
   "execution_count": 441,
   "id": "674cc457-46b6-4ed1-b186-3cf5d1f07ae5",
   "metadata": {},
   "outputs": [
    {
     "name": "stdout",
     "output_type": "stream",
     "text": [
      "Training Score: 0.8288680509042197\n",
      "Testing Score: 0.7218875502008032\n"
     ]
    }
   ],
   "source": [
    "# Looking at score for train and test data\n",
    "pipe_tvec_kn.fit(X_train, y_train)\n",
    "print(f'Training Score: {pipe_tvec_kn.score(X_train, y_train)}')\n",
    "print(f'Testing Score: {pipe_tvec_kn.score(X_test, y_test)}')"
   ]
  },
  {
   "cell_type": "markdown",
   "id": "db5a78ee-ab68-4eef-b699-4adad1c75aa3",
   "metadata": {},
   "source": [
    "#### I have not had much luck with KNN classifier the last two weeks in my practice with text but I wanted to try it anyway to see how it performed here. I do not feel compelled to use it as one of my final models as it scored much lower here as it did previously."
   ]
  },
  {
   "cell_type": "markdown",
   "id": "69595fa4-bb8b-498d-b729-9214b01c500e",
   "metadata": {},
   "source": [
    "## cvec with adaboost and decision tree classifier as base estimator"
   ]
  },
  {
   "cell_type": "code",
   "execution_count": 442,
   "id": "ec467ab9-2563-4240-8fc4-ef996eaea1bd",
   "metadata": {},
   "outputs": [
    {
     "name": "stdout",
     "output_type": "stream",
     "text": [
      "Cross_Val_Score: 0.8580040671585352\n"
     ]
    }
   ],
   "source": [
    "# Modeling with cvec and adaboost with decision tree classifier as the base estimator and running cross val score\n",
    "pipe_cvec_ada_dc = Pipeline([\n",
    "    ('cvec', CountVectorizer()),\n",
    "    ('adaboost', AdaBoostClassifier(base_estimator = DecisionTreeClassifier(random_state = 42)))\n",
    "])\n",
    "\n",
    "print(f'Cross_Val_Score: {cross_val_score(pipe_cvec_ada_dc, X_train, y_train, cv = 5).mean()}')"
   ]
  },
  {
   "cell_type": "code",
   "execution_count": 443,
   "id": "8952c5db-a5df-4713-96e0-8308e54c8321",
   "metadata": {},
   "outputs": [
    {
     "name": "stdout",
     "output_type": "stream",
     "text": [
      "Training Score: 0.9956463496316142\n",
      "Testing Score: 0.8945783132530121\n"
     ]
    }
   ],
   "source": [
    "# Looking at score for train and test data\n",
    "pipe_cvec_ada_dc.fit(X_train, y_train)\n",
    "print(f'Training Score: {pipe_cvec_ada_dc.score(X_train, y_train)}')\n",
    "print(f'Testing Score: {pipe_cvec_ada_dc.score(X_test, y_test)}')"
   ]
  },
  {
   "cell_type": "markdown",
   "id": "23c54d04-0568-4206-bca2-0487fb6cb0f6",
   "metadata": {},
   "source": [
    "## tvec with adaboost and decision tree classifier as base estimator"
   ]
  },
  {
   "cell_type": "code",
   "execution_count": 444,
   "id": "4cb14e5c-9984-4ddd-88b3-64e0e6922e09",
   "metadata": {},
   "outputs": [
    {
     "name": "stdout",
     "output_type": "stream",
     "text": [
      "Cross_Val_Score: 0.8312129207912472\n"
     ]
    }
   ],
   "source": [
    "# Modeling with tvec and adaboost with decision tree classifier as the base estimator and running cross val score\n",
    "pipe_tvec_ada_dc = Pipeline([\n",
    "    ('cvec', TfidfVectorizer()),\n",
    "    ('adaboost', AdaBoostClassifier(base_estimator = DecisionTreeClassifier(random_state = 42)))\n",
    "])\n",
    "\n",
    "print(f'Cross_Val_Score: {cross_val_score(pipe_tvec_ada_dc, X_train, y_train, cv = 5).mean()}')"
   ]
  },
  {
   "cell_type": "code",
   "execution_count": 445,
   "id": "fde134c2-5786-413b-a5f9-69e9c253f670",
   "metadata": {},
   "outputs": [
    {
     "name": "stdout",
     "output_type": "stream",
     "text": [
      "Training Score: 0.9956463496316142\n",
      "Testing Score: 0.8845381526104418\n"
     ]
    }
   ],
   "source": [
    "# Looking at score for train and test data\n",
    "pipe_tvec_ada_dc.fit(X_train, y_train)\n",
    "print(f'Training Score: {pipe_tvec_ada_dc.score(X_train, y_train)}')\n",
    "print(f'Testing Score: {pipe_tvec_ada_dc.score(X_test, y_test)}')"
   ]
  },
  {
   "cell_type": "markdown",
   "id": "ff0889cd-b273-43c8-a7a8-40278783ffe4",
   "metadata": {},
   "source": [
    "#### Adaboost worked almost as well as random forest. I want to try adaboost one more time with logregression but in the past I have had better luck with random forest. "
   ]
  },
  {
   "cell_type": "markdown",
   "id": "7adb9411-1ac1-4561-9c8b-58da590f0766",
   "metadata": {},
   "source": [
    "## cvec with adaboost and logistic regression as base estimator"
   ]
  },
  {
   "cell_type": "code",
   "execution_count": 446,
   "id": "b15f3d21-8f5a-42ad-8fe5-eebead235e0c",
   "metadata": {},
   "outputs": [
    {
     "name": "stdout",
     "output_type": "stream",
     "text": [
      "Cross_Val_Score: 0.7290588953687054\n"
     ]
    }
   ],
   "source": [
    "# Modeling with cvec and adaboost with logistic regression as the base estimator and running cross val score\n",
    "pipe_cvec_ada_lr = Pipeline([\n",
    "    ('cvec', CountVectorizer()),\n",
    "    ('adaboost', AdaBoostClassifier(base_estimator = LogisticRegression(random_state = 42)))\n",
    "])\n",
    "\n",
    "print(f'Cross_Val_Score: {cross_val_score(pipe_cvec_ada_lr, X_train, y_train, cv = 5).mean()}')"
   ]
  },
  {
   "cell_type": "code",
   "execution_count": 447,
   "id": "8dc9e7e4-1bca-438d-9ab3-4523f8cae3fa",
   "metadata": {},
   "outputs": [
    {
     "name": "stdout",
     "output_type": "stream",
     "text": [
      "Training Score: 0.7572002679169457\n",
      "Testing Score: 0.7429718875502008\n"
     ]
    }
   ],
   "source": [
    "# Looking at score for train and test data\n",
    "pipe_cvec_ada_lr.fit(X_train, y_train)\n",
    "print(f'Training Score: {pipe_cvec_ada_lr.score(X_train, y_train)}')\n",
    "print(f'Testing Score: {pipe_cvec_ada_lr.score(X_test, y_test)}')"
   ]
  },
  {
   "cell_type": "markdown",
   "id": "8e3d7d98-bd6d-4f90-a414-094182958be0",
   "metadata": {},
   "source": [
    "## tvec with adaboost and logistic regression as base estimator"
   ]
  },
  {
   "cell_type": "code",
   "execution_count": 448,
   "id": "37762a54-455f-479f-a1af-743bb082d8db",
   "metadata": {},
   "outputs": [
    {
     "name": "stdout",
     "output_type": "stream",
     "text": [
      "Cross_Val_Score: 0.7407825078570107\n"
     ]
    }
   ],
   "source": [
    "# Modeling with tvec and adaboost with logistic regression as the base estimator and running cross val score\n",
    "pipe_tvec_ada_lr = Pipeline([\n",
    "    ('cvec', TfidfVectorizer()),\n",
    "    ('adaboost', AdaBoostClassifier(base_estimator = LogisticRegression(random_state = 42)))\n",
    "])\n",
    "\n",
    "print(f'Cross_Val_Score: {cross_val_score(pipe_tvec_ada_lr, X_train, y_train, cv = 5).mean()}')"
   ]
  },
  {
   "cell_type": "code",
   "execution_count": 449,
   "id": "583bbc33-f774-4052-9d5c-28323dd9311b",
   "metadata": {},
   "outputs": [
    {
     "name": "stdout",
     "output_type": "stream",
     "text": [
      "Training Score: 0.7699263228399196\n",
      "Testing Score: 0.7459839357429718\n"
     ]
    }
   ],
   "source": [
    "# Looking at score for train and test data\n",
    "pipe_tvec_ada_lr.fit(X_train, y_train)\n",
    "print(f'Training Score: {pipe_tvec_ada_lr.score(X_train, y_train)}')\n",
    "print(f'Testing Score: {pipe_tvec_ada_lr.score(X_test, y_test)}')"
   ]
  },
  {
   "cell_type": "markdown",
   "id": "ec71edb4-bc1c-401b-be52-870beb55c4e9",
   "metadata": {},
   "source": [
    "#### As I expected, log regression did not perform as well as decision tree classifier but it did perform better than I expected. I may try to use it in a stack after I have finished tuning my models."
   ]
  },
  {
   "cell_type": "markdown",
   "id": "224c3b57-6452-428c-996d-3f365f293708",
   "metadata": {},
   "source": [
    "# Modeling with base models and stop words removed from my Subreddit post titles."
   ]
  },
  {
   "cell_type": "markdown",
   "id": "604426c4-dc3a-42f4-8e74-ba504de563ae",
   "metadata": {},
   "source": [
    "#### My EDA suggests that removing stopwords should improve my models. I am going to continue modeling with my top 3 models from the previous section (multinomialNB, random forest and adaboost with decision tree classifier as the base estimator)"
   ]
  },
  {
   "cell_type": "markdown",
   "id": "48998f96-2a7c-42b4-98ae-c1edfb3e7fd8",
   "metadata": {},
   "source": [
    "## cvec with multinomialNB no stop words"
   ]
  },
  {
   "cell_type": "code",
   "execution_count": 450,
   "id": "3ea31cc9-bd10-4168-89a5-49037965fcab",
   "metadata": {},
   "outputs": [
    {
     "name": "stdout",
     "output_type": "stream",
     "text": [
      "Cross_Val_Score: 0.789011949379002\n"
     ]
    }
   ],
   "source": [
    "# Modeling with cvec and MultinomialNB no stop words and running cross val score\n",
    "pipe_cvec_nb_sw = Pipeline([\n",
    "    ('cvec', CountVectorizer(stop_words=stopwords.words('english'))),\n",
    "    ('nb', MultinomialNB())\n",
    "])\n",
    "\n",
    "print(f'Cross_Val_Score: {cross_val_score(pipe_cvec_nb_sw, X_train, y_train, cv = 5).mean()}')"
   ]
  },
  {
   "cell_type": "code",
   "execution_count": 451,
   "id": "5313f9e0-8ca9-4c11-99b2-d5ac0c76445f",
   "metadata": {},
   "outputs": [
    {
     "name": "stdout",
     "output_type": "stream",
     "text": [
      "Training Score: 0.8864701942397857\n",
      "Testing Score: 0.8152610441767069\n"
     ]
    }
   ],
   "source": [
    "# Looking at score for train and test data\n",
    "pipe_cvec_nb_sw.fit(X_train, y_train)\n",
    "print(f'Training Score: {pipe_cvec_nb_sw.score(X_train, y_train)}')\n",
    "print(f'Testing Score: {pipe_cvec_nb_sw.score(X_test, y_test)}')"
   ]
  },
  {
   "cell_type": "code",
   "execution_count": 452,
   "id": "d3019913-e5ca-4063-98c8-ab97be94b34c",
   "metadata": {},
   "outputs": [
    {
     "name": "stdout",
     "output_type": "stream",
     "text": [
      "Cross_Val_Score: 0.7960465650437248\n",
      "Training Score: 0.8784326858673811\n",
      "Testing Score: 0.8192771084337349\n"
     ]
    }
   ],
   "source": [
    "# cvec base model with stop words scores\n",
    "print(f'Cross_Val_Score: {cross_val_score(pipe_cvec_nb, X_train, y_train, cv = 5).mean()}')\n",
    "print(f'Training Score: {pipe_cvec_nb.score(X_train, y_train)}')\n",
    "print(f'Testing Score: {pipe_cvec_nb.score(X_test, y_test)}')"
   ]
  },
  {
   "cell_type": "markdown",
   "id": "41f3aa04-15a5-4315-8ce0-79b9a532424b",
   "metadata": {},
   "source": [
    "#### According to my scores my model perfromed a little better with stop words"
   ]
  },
  {
   "cell_type": "markdown",
   "id": "fe1bfafb-301a-4f93-a0be-5c0809363738",
   "metadata": {},
   "source": [
    "## tvec with multinomialNB no stop words"
   ]
  },
  {
   "cell_type": "code",
   "execution_count": 453,
   "id": "ceb6d916-4efe-4655-b553-3af816c642e5",
   "metadata": {},
   "outputs": [
    {
     "name": "stdout",
     "output_type": "stream",
     "text": [
      "Cross_Val_Score: 0.7990571587032151\n"
     ]
    }
   ],
   "source": [
    "# Modeling with tvec and MultinomialNB no stop words and running cross val score.\n",
    "pipe_tvec_nb_sw = Pipeline([\n",
    "    ('tvec', TfidfVectorizer(stop_words=stopwords.words('english'))),\n",
    "    ('nb', MultinomialNB())\n",
    "])\n",
    "\n",
    "print(f'Cross_Val_Score: {cross_val_score(pipe_tvec_nb_sw, X_train, y_train, cv = 5).mean()}')"
   ]
  },
  {
   "cell_type": "code",
   "execution_count": 454,
   "id": "456eb313-8a10-49ac-a565-ba543b6b3220",
   "metadata": {},
   "outputs": [
    {
     "name": "stdout",
     "output_type": "stream",
     "text": [
      "Training Score: 0.8975217682518419\n",
      "Testing Score: 0.820281124497992\n"
     ]
    }
   ],
   "source": [
    "# Looking at score for train and test data\n",
    "pipe_tvec_nb_sw.fit(X_train, y_train)\n",
    "print(f'Training Score: {pipe_tvec_nb_sw.score(X_train, y_train)}')\n",
    "print(f'Testing Score: {pipe_tvec_nb_sw.score(X_test, y_test)}')"
   ]
  },
  {
   "cell_type": "code",
   "execution_count": 455,
   "id": "aa37de91-4b43-45a5-bede-c5611a8fb569",
   "metadata": {},
   "outputs": [
    {
     "name": "stdout",
     "output_type": "stream",
     "text": [
      "Cross_Val_Score: 0.8007355618673075\n",
      "Training Score: 0.891158740790355\n",
      "Testing Score: 0.8303212851405622\n"
     ]
    }
   ],
   "source": [
    "# tvec base model with stop words scores\n",
    "print(f'Cross_Val_Score: {cross_val_score(pipe_tvec_nb, X_train, y_train, cv = 5).mean()}')\n",
    "print(f'Training Score: {pipe_tvec_nb.score(X_train, y_train)}')\n",
    "print(f'Testing Score: {pipe_tvec_nb.score(X_test, y_test)}')"
   ]
  },
  {
   "cell_type": "markdown",
   "id": "93360eec-844d-4464-8a08-d50f28623d7c",
   "metadata": {},
   "source": [
    "#### somehow my tvec with stopwords and without scored exactly the same. That seems a little suspicious but I double checked and the code and variables are accurate."
   ]
  },
  {
   "cell_type": "markdown",
   "id": "27afaf81-9622-43c7-9df7-00be5fb0c6e7",
   "metadata": {},
   "source": [
    "#### My multinomialNB performed almost the same without stopwords as it did with stopwords. I was expecting the model to perform better without stopwords based on my EDA as removing stopwords for my tvec vectorizing reduced the number of the top 25 words in the post titles that were common between sleep training and attachment parenting posts from 17 to 11. I am curious to see if my other models will perform better."
   ]
  },
  {
   "cell_type": "markdown",
   "id": "672a0142-2d89-4836-8a2e-301794edbf71",
   "metadata": {},
   "source": [
    "## cvec with random forest no stop words"
   ]
  },
  {
   "cell_type": "code",
   "execution_count": 456,
   "id": "a5f59c9c-8e3e-4889-a316-945c04a37c34",
   "metadata": {},
   "outputs": [
    {
     "name": "stdout",
     "output_type": "stream",
     "text": [
      "Cross_Val_Score: 0.8533089079735354\n"
     ]
    }
   ],
   "source": [
    "# Modeling with cvec and random forest no stop words and running cross val score\n",
    "pipe_cvec_rf_sw = Pipeline([\n",
    "    ('cvec', CountVectorizer(stop_words=stopwords.words('english'))),\n",
    "    ('rf', RandomForestClassifier())\n",
    "])\n",
    "\n",
    "print(f'Cross_Val_Score: {cross_val_score(pipe_cvec_rf_sw, X_train, y_train, cv = 5).mean()}')"
   ]
  },
  {
   "cell_type": "code",
   "execution_count": 457,
   "id": "b156504d-a7c3-40e4-a56b-d8f38b622df6",
   "metadata": {},
   "outputs": [
    {
     "name": "stdout",
     "output_type": "stream",
     "text": [
      "Training Score: 0.9922973878097789\n",
      "Testing Score: 0.8795180722891566\n"
     ]
    }
   ],
   "source": [
    "# Looking at score for train and test data\n",
    "pipe_cvec_rf_sw.fit(X_train, y_train)\n",
    "print(f'Training Score: {pipe_cvec_rf_sw.score(X_train, y_train)}')\n",
    "print(f'Testing Score: {pipe_cvec_rf_sw.score(X_test, y_test)}')"
   ]
  },
  {
   "cell_type": "code",
   "execution_count": 458,
   "id": "24e02d55-052b-4b57-b81a-e2c5d1742b8f",
   "metadata": {},
   "outputs": [
    {
     "name": "stdout",
     "output_type": "stream",
     "text": [
      "Cross_Val_Score: 0.8636896858876322\n",
      "Training Score: 0.9956463496316142\n",
      "Testing Score: 0.9016064257028112\n"
     ]
    }
   ],
   "source": [
    "# cvec base model with stop words scores\n",
    "print(f'Cross_Val_Score: {cross_val_score(pipe_cvec_rf, X_train, y_train, cv = 5).mean()}')\n",
    "print(f'Training Score: {pipe_cvec_rf.score(X_train, y_train)}')\n",
    "print(f'Testing Score: {pipe_cvec_rf.score(X_test, y_test)}')"
   ]
  },
  {
   "cell_type": "markdown",
   "id": "8388cab0-1d47-4ce0-957c-5dba02c827dd",
   "metadata": {},
   "source": [
    "#### Just like my last cvec with multinomialNB, my random forest model also performed a little worse with stopwords removed. "
   ]
  },
  {
   "cell_type": "markdown",
   "id": "21a6b57a-dc0f-4c5f-8b56-6bf442d65e60",
   "metadata": {},
   "source": [
    "## tvec with random forest no stop words"
   ]
  },
  {
   "cell_type": "code",
   "execution_count": 459,
   "id": "db9854b6-ec3d-41f9-a543-5490bead3df4",
   "metadata": {},
   "outputs": [
    {
     "name": "stdout",
     "output_type": "stream",
     "text": [
      "Cross_Val_Score: 0.8656958146361685\n"
     ]
    }
   ],
   "source": [
    "# Modeling with tvec and random forest no stop words and running cross val score\n",
    "pipe_tvec_rf_sw = Pipeline([\n",
    "    ('tvec', TfidfVectorizer(stop_words=stopwords.words('english'))),\n",
    "    ('rf', RandomForestClassifier())\n",
    "])\n",
    "\n",
    "print(f'Cross_Val_Score: {cross_val_score(pipe_tvec_rf_sw, X_train, y_train, cv = 5).mean()}')"
   ]
  },
  {
   "cell_type": "code",
   "execution_count": 460,
   "id": "9528a75b-2d9f-4429-88ab-b7c3c668172d",
   "metadata": {},
   "outputs": [
    {
     "name": "stdout",
     "output_type": "stream",
     "text": [
      "Training Score: 0.9922973878097789\n",
      "Testing Score: 0.8885542168674698\n"
     ]
    }
   ],
   "source": [
    "# Looking at score for train and test data\n",
    "pipe_tvec_rf_sw.fit(X_train, y_train)\n",
    "print(f'Training Score: {pipe_tvec_rf_sw.score(X_train, y_train)}')\n",
    "print(f'Testing Score: {pipe_tvec_rf_sw.score(X_test, y_test)}')"
   ]
  },
  {
   "cell_type": "code",
   "execution_count": 461,
   "id": "ac89543d-14bc-4c8f-a74e-3e22de24ec5c",
   "metadata": {},
   "outputs": [
    {
     "name": "stdout",
     "output_type": "stream",
     "text": [
      "Cross_Val_Score: 0.870054284801936\n",
      "Training Score: 0.9956463496316142\n",
      "Testing Score: 0.8895582329317269\n"
     ]
    }
   ],
   "source": [
    "# tvec base model with stop words scores\n",
    "print(f'Cross_Val_Score: {cross_val_score(pipe_tvec_rf, X_train, y_train, cv = 5).mean()}')\n",
    "print(f'Training Score: {pipe_tvec_rf.score(X_train, y_train)}')\n",
    "print(f'Testing Score: {pipe_tvec_rf.score(X_test, y_test)}')"
   ]
  },
  {
   "cell_type": "markdown",
   "id": "80f0f415-e00f-4747-86d1-e6d9fc861120",
   "metadata": {},
   "source": [
    "#### Here, like cvec previously, my model with stop words included outperforms my model with stop words removed. For my final model I will not remove stop words."
   ]
  },
  {
   "cell_type": "markdown",
   "id": "12a72aec-7c98-4201-9fb5-07e489c49985",
   "metadata": {},
   "source": [
    "#### Removing stop words actually made both random forest models perform slightly worse than before. My cross val score for cvec was 0.8590107729281862 and tvec was 0.8647025540187. Likewise, my training and test scores for both cvec and tvec were about 2% points less as well. I am glad that I ran these tests as I was almost convinced that removing stopwords would have improved my model based on the EDA that I performed."
   ]
  },
  {
   "cell_type": "markdown",
   "id": "871db703-26f7-422a-a2b9-45d4a9f7107e",
   "metadata": {},
   "source": [
    "## cvec with adaboost and decision tree classifier as base estimator no stop words"
   ]
  },
  {
   "cell_type": "code",
   "execution_count": 462,
   "id": "f3ea189c-d778-4530-a5e0-5845c7711b99",
   "metadata": {},
   "outputs": [
    {
     "name": "stdout",
     "output_type": "stream",
     "text": [
      "Cross_Val_Score: 0.8442687237749504\n"
     ]
    }
   ],
   "source": [
    "# Modeling with cvec no stop words and adaboost with decision tree classifier as the base estimator and running cross val score\n",
    "pipe_cvec_ada_sw = Pipeline([\n",
    "    ('cvec', CountVectorizer(stop_words=stopwords.words('english'))),\n",
    "    ('adaboost', AdaBoostClassifier(base_estimator = DecisionTreeClassifier(random_state = 42)))\n",
    "])\n",
    "\n",
    "print(f'Cross_Val_Score: {cross_val_score(pipe_cvec_ada_sw, X_train, y_train, cv = 5).mean()}')"
   ]
  },
  {
   "cell_type": "code",
   "execution_count": 463,
   "id": "7a57fbeb-59d7-4f1a-bdd3-9653eb5e3686",
   "metadata": {},
   "outputs": [
    {
     "name": "stdout",
     "output_type": "stream",
     "text": [
      "Training Score: 0.9922973878097789\n",
      "Testing Score: 0.8684738955823293\n"
     ]
    }
   ],
   "source": [
    "# Looking at score for train and test data\n",
    "pipe_cvec_ada_sw.fit(X_train, y_train)\n",
    "print(f'Training Score: {pipe_cvec_ada_sw.score(X_train, y_train)}')\n",
    "print(f'Testing Score: {pipe_cvec_ada_sw.score(X_test, y_test)}')"
   ]
  },
  {
   "cell_type": "code",
   "execution_count": 464,
   "id": "5551ce89-6947-4fc8-892d-1a0274166c11",
   "metadata": {},
   "outputs": [
    {
     "name": "stdout",
     "output_type": "stream",
     "text": [
      "Cross_Val_Score: 0.846277093382184\n",
      "Training Score: 0.9956463496316142\n",
      "Testing Score: 0.8945783132530121\n"
     ]
    }
   ],
   "source": [
    "# cvec base model with stop words scores\n",
    "print(f'Cross_Val_Score: {cross_val_score(pipe_cvec_ada_dc, X_train, y_train, cv = 5).mean()}')\n",
    "print(f'Training Score: {pipe_cvec_ada_dc.score(X_train, y_train)}')\n",
    "print(f'Testing Score: {pipe_cvec_ada_dc.score(X_test, y_test)}')"
   ]
  },
  {
   "cell_type": "markdown",
   "id": "d7632d80-9a5c-4ad3-9b95-d5f5c7df8808",
   "metadata": {},
   "source": [
    "#### My adaboost model for cvec also performs better with stop words. Again, not by much but still better."
   ]
  },
  {
   "cell_type": "markdown",
   "id": "69c9f8a8-de06-4337-bf57-7d6319285813",
   "metadata": {},
   "source": [
    "## tvec with adaboost and decision tree classifier as base estimator no stop words"
   ]
  },
  {
   "cell_type": "code",
   "execution_count": 465,
   "id": "e60251b6-9e63-49d1-b69c-9bc957537066",
   "metadata": {},
   "outputs": [
    {
     "name": "stdout",
     "output_type": "stream",
     "text": [
      "Cross_Val_Score: 0.8409236819549252\n"
     ]
    }
   ],
   "source": [
    "# Modeling with tvec no stop words and adaboost with decision tree classifier as the base estimator and running cross val score\n",
    "pipe_tvec_ada_sw = Pipeline([\n",
    "    ('cvec', TfidfVectorizer(stop_words=stopwords.words('english'))),\n",
    "    ('adaboost', AdaBoostClassifier(base_estimator = DecisionTreeClassifier(random_state = 42)))\n",
    "])\n",
    "\n",
    "print(f'Cross_Val_Score: {cross_val_score(pipe_tvec_ada_sw, X_train, y_train, cv = 5).mean()}')"
   ]
  },
  {
   "cell_type": "code",
   "execution_count": 466,
   "id": "78879046-fcea-4418-a3f0-1bc545e4aa37",
   "metadata": {},
   "outputs": [
    {
     "name": "stdout",
     "output_type": "stream",
     "text": [
      "Training Score: 0.9922973878097789\n",
      "Testing Score: 0.8795180722891566\n"
     ]
    }
   ],
   "source": [
    "# Looking at score for train and test data\n",
    "pipe_tvec_ada_sw.fit(X_train, y_train)\n",
    "print(f'Training Score: {pipe_tvec_ada_sw.score(X_train, y_train)}')\n",
    "print(f'Testing Score: {pipe_tvec_ada_sw.score(X_test, y_test)}')"
   ]
  },
  {
   "cell_type": "code",
   "execution_count": 467,
   "id": "06cfe13a-23b1-44ad-a64a-8847a6b09223",
   "metadata": {},
   "outputs": [
    {
     "name": "stdout",
     "output_type": "stream",
     "text": [
      "Cross_Val_Score: 0.8288706632381528\n",
      "Training Score: 0.9956463496316142\n",
      "Testing Score: 0.8845381526104418\n"
     ]
    }
   ],
   "source": [
    "# tvec base model with stop words scores\n",
    "print(f'Cross_Val_Score: {cross_val_score(pipe_tvec_ada_dc, X_train, y_train, cv = 5).mean()}')\n",
    "print(f'Training Score: {pipe_tvec_ada_dc.score(X_train, y_train)}')\n",
    "print(f'Testing Score: {pipe_tvec_ada_dc.score(X_test, y_test)}')"
   ]
  },
  {
   "cell_type": "markdown",
   "id": "cedf082a-98cc-43ae-b3e3-a09e61ccc2e4",
   "metadata": {},
   "source": [
    "### The same thing here as with my random tree. My cross val scores and my train and test scores are a little lower. I was planning on modeling with stop words based on what I saw in my EDA in reducing the number of common words between my 2 Subreddit categories. However, now I will most likely model with stop words."
   ]
  },
  {
   "cell_type": "markdown",
   "id": "43d7bd61-1b79-4c9d-abdd-82fa73da59ce",
   "metadata": {},
   "source": [
    "### I was initially planning on modeling 2 grams with stop words removed but seeing how removing stop words has inhibited the performance of my model I am going to try 2 grams with stop words included and compare against my base random forest model."
   ]
  },
  {
   "cell_type": "markdown",
   "id": "a9cc3c80-ee7d-40dc-967d-e4732f6b1776",
   "metadata": {},
   "source": [
    "# Modeling with random forest base model with 2 grams."
   ]
  },
  {
   "cell_type": "markdown",
   "id": "7b7e68d3-beed-4a33-9bb2-fc95f27d0075",
   "metadata": {},
   "source": [
    "## cvec with 2 grams and random forest "
   ]
  },
  {
   "cell_type": "code",
   "execution_count": 468,
   "id": "f4be1a64-076a-4294-b829-a03d51dd841f",
   "metadata": {},
   "outputs": [
    {
     "name": "stdout",
     "output_type": "stream",
     "text": [
      "Cross_Val_Score: 0.8171397679590819\n"
     ]
    }
   ],
   "source": [
    "# Modeling with cvec 2 grams and random forest and running cross val score\n",
    "pipe_cvec_rf_2gr = Pipeline([\n",
    "    ('cvec', CountVectorizer(ngram_range=(2,2))),\n",
    "    ('rf', RandomForestClassifier(random_state = 42))\n",
    "])\n",
    "\n",
    "print(f'Cross_Val_Score: {cross_val_score(pipe_cvec_rf_2gr, X_train, y_train, cv = 5).mean()}')"
   ]
  },
  {
   "cell_type": "code",
   "execution_count": 469,
   "id": "ffd285b4-2dba-4982-90af-d8a44aa185ab",
   "metadata": {},
   "outputs": [
    {
     "name": "stdout",
     "output_type": "stream",
     "text": [
      "Training Score: 0.9906229068988613\n",
      "Testing Score: 0.8775100401606426\n"
     ]
    }
   ],
   "source": [
    "# Looking at score for train and test data\n",
    "pipe_cvec_rf_2gr.fit(X_train, y_train)\n",
    "print(f'Training Score: {pipe_cvec_rf_2gr.score(X_train, y_train)}')\n",
    "print(f'Testing Score: {pipe_cvec_rf_2gr.score(X_test, y_test)}')"
   ]
  },
  {
   "cell_type": "code",
   "execution_count": 470,
   "id": "d2db759c-34c9-42ed-b534-8a283de466c4",
   "metadata": {},
   "outputs": [
    {
     "name": "stdout",
     "output_type": "stream",
     "text": [
      "Cross_Val_Score: 0.8683809235699119\n",
      "Training Score: 0.9956463496316142\n",
      "Testing Score: 0.9016064257028112\n"
     ]
    }
   ],
   "source": [
    "# cvec base model no 2 gramss\n",
    "print(f'Cross_Val_Score: {cross_val_score(pipe_cvec_rf, X_train, y_train, cv = 5).mean()}')\n",
    "print(f'Training Score: {pipe_cvec_rf.score(X_train, y_train)}')\n",
    "print(f'Testing Score: {pipe_cvec_rf.score(X_test, y_test)}')"
   ]
  },
  {
   "cell_type": "markdown",
   "id": "bc5a9dcc-2e13-4ab5-b319-8d86e0849bb6",
   "metadata": {
    "tags": []
   },
   "source": [
    "#### Including 2 grams scored a little worse than without them. Nevertheless, I will try with tvec as well."
   ]
  },
  {
   "cell_type": "markdown",
   "id": "807459a6-8f37-407f-9159-d95c67699ef6",
   "metadata": {},
   "source": [
    "## tvec with 2 grams and random forest "
   ]
  },
  {
   "cell_type": "code",
   "execution_count": 471,
   "id": "f342c776-bf7f-4457-b945-e1a02acfd9f9",
   "metadata": {},
   "outputs": [
    {
     "name": "stdout",
     "output_type": "stream",
     "text": [
      "Cross_Val_Score: 0.8201554035506404\n"
     ]
    }
   ],
   "source": [
    "# Modeling with tvec 2 grams and random forest and running cross val score\n",
    "pipe_tvec_rf_2gr = Pipeline([\n",
    "    ('tvec', TfidfVectorizer(ngram_range=(2,2))),\n",
    "    ('rf', RandomForestClassifier(random_state = 42))\n",
    "])\n",
    "\n",
    "print(f'Cross_Val_Score: {cross_val_score(pipe_tvec_rf_2gr, X_train, y_train, cv = 5).mean()}')"
   ]
  },
  {
   "cell_type": "code",
   "execution_count": 472,
   "id": "1a5bc778-1b07-420c-9bd1-137e0949941b",
   "metadata": {},
   "outputs": [
    {
     "name": "stdout",
     "output_type": "stream",
     "text": [
      "Training Score: 0.9906229068988613\n",
      "Testing Score: 0.8724899598393574\n"
     ]
    }
   ],
   "source": [
    "# Looking at score for train and test data\n",
    "pipe_tvec_rf_2gr.fit(X_train, y_train)\n",
    "print(f'Training Score: {pipe_tvec_rf_2gr.score(X_train, y_train)}')\n",
    "print(f'Testing Score: {pipe_tvec_rf_2gr.score(X_test, y_test)}')"
   ]
  },
  {
   "cell_type": "code",
   "execution_count": 473,
   "id": "616ef977-b8bb-408e-a51d-fa463075595c",
   "metadata": {},
   "outputs": [
    {
     "name": "stdout",
     "output_type": "stream",
     "text": [
      "Cross_Val_Score: 0.8703898533918197\n",
      "Training Score: 0.9956463496316142\n",
      "Testing Score: 0.8895582329317269\n"
     ]
    }
   ],
   "source": [
    "# tvec base model with stop words and no 2 grams\n",
    "print(f'Cross_Val_Score: {cross_val_score(pipe_tvec_rf, X_train, y_train, cv = 5).mean()}')\n",
    "print(f'Training Score: {pipe_tvec_rf.score(X_train, y_train)}')\n",
    "print(f'Testing Score: {pipe_tvec_rf.score(X_test, y_test)}')"
   ]
  },
  {
   "cell_type": "markdown",
   "id": "b4a3efc5-3e47-49bc-b42b-41ea94095d21",
   "metadata": {},
   "source": [
    "#### Again, including 2 grams reduced my scores. I will not include 2 grams for my final models."
   ]
  },
  {
   "cell_type": "markdown",
   "id": "741c54e9-677f-4781-a2cc-2d29e2055a19",
   "metadata": {},
   "source": [
    "#### When I performed EDA on my dataset creating 2 grams reduced the number of the top 25 words that the two Subreddit categories had in common to 7 and 9 respectively for tvec and cvec. I thought that would aid the model in classification but the model is performing worse with 2 grams included. I want to try 3 grams as well to see what affect that has on the score. I thought that it would reduce the score as the 2 grams had 2 less words in common between the 2 groups but it may perform better based on my previous predictions being off the mark."
   ]
  },
  {
   "cell_type": "markdown",
   "id": "d5639611-5966-46e0-843b-2aff6051d75d",
   "metadata": {},
   "source": [
    "# Modeling with random forest base model and stop words removed from my Subreddit post titles and 3 grams.\n"
   ]
  },
  {
   "cell_type": "markdown",
   "id": "fed34dfe-993a-464c-975c-abdd6b0545dc",
   "metadata": {},
   "source": [
    "## cvec with 3 grams and random forest "
   ]
  },
  {
   "cell_type": "code",
   "execution_count": 474,
   "id": "3b7a435c-cea6-4e46-9fab-ace10280c577",
   "metadata": {},
   "outputs": [
    {
     "name": "stdout",
     "output_type": "stream",
     "text": [
      "Cross_Val_Score: 0.7839913054682554\n"
     ]
    }
   ],
   "source": [
    "# Modeling with cvec 3 grams and random forest and running cross val score\n",
    "pipe_cvec_rf_3gr = Pipeline([\n",
    "    ('cvec', CountVectorizer(ngram_range=(3,3))),\n",
    "    ('rf', RandomForestClassifier(random_state = 42))\n",
    "])\n",
    "\n",
    "print(f'Cross_Val_Score: {cross_val_score(pipe_cvec_rf_3gr, X_train, y_train, cv = 5).mean()}')"
   ]
  },
  {
   "cell_type": "code",
   "execution_count": 475,
   "id": "7d135b70-efbf-4f47-913e-9a2f6a8a8038",
   "metadata": {},
   "outputs": [
    {
     "name": "stdout",
     "output_type": "stream",
     "text": [
      "Training Score: 0.9614869390488948\n",
      "Testing Score: 0.8423694779116466\n"
     ]
    }
   ],
   "source": [
    "# Looking at score for train and test data\n",
    "pipe_cvec_rf_3gr.fit(X_train, y_train)\n",
    "print(f'Training Score: {pipe_cvec_rf_3gr.score(X_train, y_train)}')\n",
    "print(f'Testing Score: {pipe_cvec_rf_3gr.score(X_test, y_test)}')"
   ]
  },
  {
   "cell_type": "code",
   "execution_count": 476,
   "id": "cc7a6c9a-9ebe-4fad-aef1-2845aac4d1d3",
   "metadata": {},
   "outputs": [
    {
     "name": "stdout",
     "output_type": "stream",
     "text": [
      "Cross_Val_Score: 0.8616807560657245\n",
      "Training Score: 0.9956463496316142\n",
      "Testing Score: 0.9016064257028112\n"
     ]
    }
   ],
   "source": [
    "# cvec base model with stop words and no 3 grams\n",
    "print(f'Cross_Val_Score: {cross_val_score(pipe_cvec_rf, X_train, y_train, cv = 5).mean()}')\n",
    "print(f'Training Score: {pipe_cvec_rf.score(X_train, y_train)}')\n",
    "print(f'Testing Score: {pipe_cvec_rf.score(X_test, y_test)}')"
   ]
  },
  {
   "cell_type": "markdown",
   "id": "5683abd2-d2b1-4bd4-8c60-aa638921a9f7",
   "metadata": {
    "tags": []
   },
   "source": [
    "#### Including 3 grams reduced my model scores as well."
   ]
  },
  {
   "cell_type": "markdown",
   "id": "77c8c335-19fa-4c4d-b538-34ede4156df6",
   "metadata": {},
   "source": [
    "## tvec with 3 grams and random forest "
   ]
  },
  {
   "cell_type": "code",
   "execution_count": 477,
   "id": "1a009f3e-0b7e-4577-8efd-04c56313e378",
   "metadata": {},
   "outputs": [
    {
     "name": "stdout",
     "output_type": "stream",
     "text": [
      "Cross_Val_Score: 0.7846607620039999\n"
     ]
    }
   ],
   "source": [
    "# Modeling with tvec 3 grams and random forest and running cross val score\n",
    "pipe_tvec_rf_3gr = Pipeline([\n",
    "    ('tvec', TfidfVectorizer(ngram_range=(3,3))),\n",
    "    ('rf', RandomForestClassifier())\n",
    "])\n",
    "\n",
    "print(f'Cross_Val_Score: {cross_val_score(pipe_tvec_rf_3gr, X_train, y_train, cv = 5).mean()}')"
   ]
  },
  {
   "cell_type": "code",
   "execution_count": 478,
   "id": "62e67653-8fa4-435b-a3cb-f1541513f30e",
   "metadata": {},
   "outputs": [
    {
     "name": "stdout",
     "output_type": "stream",
     "text": [
      "Training Score: 0.9614869390488948\n",
      "Testing Score: 0.8453815261044176\n"
     ]
    }
   ],
   "source": [
    "# Looking at score for train and test data\n",
    "pipe_tvec_rf_3gr.fit(X_train, y_train)\n",
    "print(f'Training Score: {pipe_tvec_rf_3gr.score(X_train, y_train)}')\n",
    "print(f'Testing Score: {pipe_tvec_rf_3gr.score(X_test, y_test)}')"
   ]
  },
  {
   "cell_type": "code",
   "execution_count": 479,
   "id": "fec3d3da-0c79-452c-b4b0-4fc82108551d",
   "metadata": {},
   "outputs": [
    {
     "name": "stdout",
     "output_type": "stream",
     "text": [
      "Cross_Val_Score: 0.8757466261071242\n",
      "Training Score: 0.9956463496316142\n",
      "Testing Score: 0.8895582329317269\n"
     ]
    }
   ],
   "source": [
    "# tvec base model with stop words and no 2 grams\n",
    "print(f'Cross_Val_Score: {cross_val_score(pipe_tvec_rf, X_train, y_train, cv = 5).mean()}')\n",
    "print(f'Training Score: {pipe_tvec_rf.score(X_train, y_train)}')\n",
    "print(f'Testing Score: {pipe_tvec_rf.score(X_test, y_test)}')"
   ]
  },
  {
   "cell_type": "markdown",
   "id": "5c3ef4a5-1819-4e83-ae9e-895a6767f0bf",
   "metadata": {},
   "source": [
    "#### As with cvec above including 3 grams reduced my scores. I will not be including 3 grams in my final model. "
   ]
  },
  {
   "cell_type": "markdown",
   "id": "a474fe57-161b-4e51-a1dd-25060aa6258c",
   "metadata": {},
   "source": [
    "#### This is at least one prediction I got correct! The 3 grams do not improve the model. in fact, the 3 grams cause the model to score approximately 6% less across the board. Before I move on to optimizing my models I want to try lemmitization."
   ]
  },
  {
   "cell_type": "markdown",
   "id": "7245e0e1-931a-429f-a6d8-065a6d37e63d",
   "metadata": {},
   "source": [
    "# Modeling with random forest base model and stop words removed from my Subreddit post titles and lemmatization."
   ]
  },
  {
   "cell_type": "markdown",
   "id": "0a4ab719-8bce-4307-bfd8-4701a333cf4f",
   "metadata": {},
   "source": [
    "## cvec with lemmatization and random forest"
   ]
  },
  {
   "cell_type": "code",
   "execution_count": 480,
   "id": "4bc61a4f-234c-429a-8017-c3c58c147b6f",
   "metadata": {},
   "outputs": [],
   "source": [
    "# Custom tokenizing - using the lemmatizer function we made during our breakfast hour \n",
    "def my_lemmatizer(text):\n",
    "    wnet = WordNetLemmatizer()\n",
    "    return [wnet.lemmatize(w) for w in text.split(\" \")]"
   ]
  },
  {
   "cell_type": "code",
   "execution_count": 481,
   "id": "9ff7e899-f24d-41c6-b652-f57d94788aa7",
   "metadata": {},
   "outputs": [],
   "source": [
    "# apply same pre-processing as posts to stopwords- this prevents my tokenizer from returning errors \n",
    "# that it no longer recognizes the stop words in my text that have been lemmatized\n",
    "wnet = WordNetLemmatizer()\n",
    "lem_stopwords = [wnet.lemmatize(w) for w in stopwords.words('english')]"
   ]
  },
  {
   "cell_type": "code",
   "execution_count": 482,
   "id": "c179b67f-1dec-4033-93f8-1769672ed2c6",
   "metadata": {},
   "outputs": [
    {
     "name": "stdout",
     "output_type": "stream",
     "text": [
      "Cross_Val_Score: 0.8663686324599587\n"
     ]
    }
   ],
   "source": [
    "# Modeling with cvec no stop words lemmatized and random forest and running cross val score\n",
    "pipe_cvec_rf_sw_lm = Pipeline([\n",
    "    ('cvec', CountVectorizer(stop_words=lem_stopwords, tokenizer = my_lemmatizer)),\n",
    "    ('rf', RandomForestClassifier(random_state = 42))\n",
    "])\n",
    "\n",
    "print(f'Cross_Val_Score: {cross_val_score(pipe_cvec_rf_sw_lm, X_train, y_train, cv = 5).mean()}')"
   ]
  },
  {
   "cell_type": "code",
   "execution_count": 483,
   "id": "7ee9dfe3-ae68-4ec1-8364-32872704354f",
   "metadata": {},
   "outputs": [
    {
     "name": "stdout",
     "output_type": "stream",
     "text": [
      "Training Score: 0.9973208305425318\n",
      "Testing Score: 0.8965863453815262\n"
     ]
    }
   ],
   "source": [
    "# Looking at score for train and test data\n",
    "pipe_cvec_rf_sw_lm.fit(X_train, y_train)\n",
    "print(f'Training Score: {pipe_cvec_rf_sw_lm.score(X_train, y_train)}')\n",
    "print(f'Testing Score: {pipe_cvec_rf_sw_lm.score(X_test, y_test)}')"
   ]
  },
  {
   "cell_type": "code",
   "execution_count": 484,
   "id": "bbd5f620-9286-4c40-abf0-c2302f536844",
   "metadata": {},
   "outputs": [
    {
     "name": "stdout",
     "output_type": "stream",
     "text": [
      "Cross_Val_Score: 0.8549861907082794\n",
      "Training Score: 0.9922973878097789\n",
      "Testing Score: 0.8795180722891566\n"
     ]
    }
   ],
   "source": [
    "# cvec base model with stop words removed no lemmitization\n",
    "print(f'Cross_Val_Score: {cross_val_score(pipe_cvec_rf_sw, X_train, y_train, cv = 5).mean()}')\n",
    "print(f'Training Score: {pipe_cvec_rf_sw.score(X_train, y_train)}')\n",
    "print(f'Testing Score: {pipe_cvec_rf_sw.score(X_test, y_test)}')"
   ]
  },
  {
   "cell_type": "code",
   "execution_count": 485,
   "id": "d0a5e460-5b43-411b-85e5-360208aa8913",
   "metadata": {},
   "outputs": [
    {
     "name": "stdout",
     "output_type": "stream",
     "text": [
      "Cross_Val_Score: 0.8680431141213314\n",
      "Training Score: 0.9956463496316142\n",
      "Testing Score: 0.9016064257028112\n"
     ]
    }
   ],
   "source": [
    "# cvec base model with stop words no lemmitization\n",
    "print(f'Cross_Val_Score: {cross_val_score(pipe_cvec_rf, X_train, y_train, cv = 5).mean()}')\n",
    "print(f'Training Score: {pipe_cvec_rf.score(X_train, y_train)}')\n",
    "print(f'Testing Score: {pipe_cvec_rf.score(X_test, y_test)}')"
   ]
  },
  {
   "cell_type": "markdown",
   "id": "97679ddd-f58e-4f63-9c64-1f4e821e41a9",
   "metadata": {},
   "source": [
    "#### Lemmatization did help improve the score of the model with the stop words removed, however, it still does not perform as well as the model with stop words included."
   ]
  },
  {
   "cell_type": "markdown",
   "id": "f5af5dd5-9c21-4a3a-ad33-d68d59400519",
   "metadata": {
    "tags": []
   },
   "source": [
    "## tvec with lemmatization and random forest"
   ]
  },
  {
   "cell_type": "code",
   "execution_count": 486,
   "id": "f5c5ceeb-8032-4a66-8c38-06d7bd536b73",
   "metadata": {},
   "outputs": [
    {
     "name": "stdout",
     "output_type": "stream",
     "text": [
      "Cross_Val_Score: 0.8680459151947026\n"
     ]
    }
   ],
   "source": [
    "# Modeling with tvec no stop words lemmatized and random forest and running cross val score\n",
    "pipe_tvec_rf_sw_lm = Pipeline([\n",
    "    ('tvec', TfidfVectorizer(stop_words=lem_stopwords, tokenizer = my_lemmatizer)),\n",
    "    ('rf', RandomForestClassifier())\n",
    "])\n",
    "\n",
    "print(f'Cross_Val_Score: {cross_val_score(pipe_tvec_rf_sw_lm, X_train, y_train, cv = 5).mean()}')"
   ]
  },
  {
   "cell_type": "code",
   "execution_count": 487,
   "id": "4fb48a70-eb5b-4215-a68f-aa10410e216e",
   "metadata": {},
   "outputs": [
    {
     "name": "stdout",
     "output_type": "stream",
     "text": [
      "Training Score: 0.9973208305425318\n",
      "Testing Score: 0.8955823293172691\n"
     ]
    }
   ],
   "source": [
    "# Looking at score for train and test data\n",
    "pipe_tvec_rf_sw_lm.fit(X_train, y_train)\n",
    "print(f'Training Score: {pipe_tvec_rf_sw_lm.score(X_train, y_train)}')\n",
    "print(f'Testing Score: {pipe_tvec_rf_sw_lm.score(X_test, y_test)}')"
   ]
  },
  {
   "cell_type": "code",
   "execution_count": 488,
   "id": "4e778ac0-85b4-4da3-b4bf-d4408fc75c0a",
   "metadata": {},
   "outputs": [
    {
     "name": "stdout",
     "output_type": "stream",
     "text": [
      "Cross_Val_Score: 0.8653664084077018\n",
      "Training Score: 0.9922973878097789\n",
      "Testing Score: 0.8885542168674698\n"
     ]
    }
   ],
   "source": [
    "# tvec base model with stop words removed no lemmitization\n",
    "print(f'Cross_Val_Score: {cross_val_score(pipe_tvec_rf_sw, X_train, y_train, cv = 5).mean()}')\n",
    "print(f'Training Score: {pipe_tvec_rf_sw.score(X_train, y_train)}')\n",
    "print(f'Testing Score: {pipe_tvec_rf_sw.score(X_test, y_test)}')"
   ]
  },
  {
   "cell_type": "code",
   "execution_count": 489,
   "id": "30d7af65-c7f5-4afb-9e8a-20353a4190b3",
   "metadata": {},
   "outputs": [
    {
     "name": "stdout",
     "output_type": "stream",
     "text": [
      "Cross_Val_Score: 0.8680464754093767\n",
      "Training Score: 0.9956463496316142\n",
      "Testing Score: 0.8895582329317269\n"
     ]
    }
   ],
   "source": [
    "# tvec base model with stop words no lemmitization\n",
    "print(f'Cross_Val_Score: {cross_val_score(pipe_tvec_rf, X_train, y_train, cv = 5).mean()}')\n",
    "print(f'Training Score: {pipe_tvec_rf.score(X_train, y_train)}')\n",
    "print(f'Testing Score: {pipe_tvec_rf.score(X_test, y_test)}')"
   ]
  },
  {
   "cell_type": "markdown",
   "id": "1ae2f95e-3094-42f4-9d2b-1980ecb07fd5",
   "metadata": {},
   "source": [
    "#### As with cvec, my tvec score with lemmatization and stop words removed was better than it was for just stop words removed. However, it did not score as high as my base model, therefore, I will continue on with my base model."
   ]
  },
  {
   "cell_type": "markdown",
   "id": "35b94ec8-0991-45de-aee0-c06f8ea8c882",
   "metadata": {},
   "source": [
    "#### Lemmatization did not score as well as my bare random forest but it scored better than I thought it would. It only scored between 1% and 2% less than my bare random forest. My EDA showed that lemmatization introduced several numbers and special characters into my top 25 words for both my Subreddits but apparently that was more useful for classification than removing stop words. "
   ]
  },
  {
   "cell_type": "markdown",
   "id": "2e9d1115-7235-4312-9011-4ecc12c0f07a",
   "metadata": {},
   "source": [
    "## Comparing my best cvec models to my best cvec models"
   ]
  },
  {
   "cell_type": "markdown",
   "id": "c5d26847-9036-4cf4-bb88-73861974518b",
   "metadata": {},
   "source": [
    "### multinomialNB base models"
   ]
  },
  {
   "cell_type": "code",
   "execution_count": 490,
   "id": "2b6c9310-42a8-43a3-9c2c-099f9f5826d8",
   "metadata": {},
   "outputs": [
    {
     "name": "stdout",
     "output_type": "stream",
     "text": [
      "Cross_Val_Score: 0.7960465650437248\n",
      "Training Score: 0.8784326858673811\n",
      "Testing Score: 0.8192771084337349\n"
     ]
    }
   ],
   "source": [
    "# cvec base model with stop words\n",
    "print(f'Cross_Val_Score: {cross_val_score(pipe_cvec_nb, X_train, y_train, cv = 5).mean()}')\n",
    "print(f'Training Score: {pipe_cvec_nb.score(X_train, y_train)}')\n",
    "print(f'Testing Score: {pipe_cvec_nb.score(X_test, y_test)}')"
   ]
  },
  {
   "cell_type": "code",
   "execution_count": 491,
   "id": "c979cf0f-9fb5-4698-894b-8661a2e6466c",
   "metadata": {},
   "outputs": [
    {
     "name": "stdout",
     "output_type": "stream",
     "text": [
      "Cross_Val_Score: 0.8007355618673075\n",
      "Training Score: 0.891158740790355\n",
      "Testing Score: 0.8303212851405622\n"
     ]
    }
   ],
   "source": [
    "# tvec base model with stop words\n",
    "print(f'Cross_Val_Score: {cross_val_score(pipe_tvec_nb, X_train, y_train, cv = 5).mean()}')\n",
    "print(f'Training Score: {pipe_tvec_nb.score(X_train, y_train)}')\n",
    "print(f'Testing Score: {pipe_tvec_nb.score(X_test, y_test)}')"
   ]
  },
  {
   "cell_type": "markdown",
   "id": "df867fe4-991f-40b3-8811-a5c084de2636",
   "metadata": {},
   "source": [
    "### random forest base models"
   ]
  },
  {
   "cell_type": "code",
   "execution_count": 492,
   "id": "b167df0e-d093-4db7-b5cd-20f4fec3e595",
   "metadata": {},
   "outputs": [
    {
     "name": "stdout",
     "output_type": "stream",
     "text": [
      "Cross_Val_Score: 0.8713931978734252\n",
      "Training Score: 0.9956463496316142\n",
      "Testing Score: 0.9016064257028112\n"
     ]
    }
   ],
   "source": [
    "# cvec base model with stop words \n",
    "print(f'Cross_Val_Score: {cross_val_score(pipe_cvec_rf, X_train, y_train, cv = 5).mean()}')\n",
    "print(f'Training Score: {pipe_cvec_rf.score(X_train, y_train)}')\n",
    "print(f'Testing Score: {pipe_cvec_rf.score(X_test, y_test)}')"
   ]
  },
  {
   "cell_type": "code",
   "execution_count": 493,
   "id": "6b57e068-b786-44da-af04-feb1727a5a03",
   "metadata": {},
   "outputs": [
    {
     "name": "stdout",
     "output_type": "stream",
     "text": [
      "Cross_Val_Score: 0.8717310073220057\n",
      "Training Score: 0.9956463496316142\n",
      "Testing Score: 0.8895582329317269\n"
     ]
    }
   ],
   "source": [
    "# tvec base model with stop words \n",
    "print(f'Cross_Val_Score: {cross_val_score(pipe_tvec_rf, X_train, y_train, cv = 5).mean()}')\n",
    "print(f'Training Score: {pipe_tvec_rf.score(X_train, y_train)}')\n",
    "print(f'Testing Score: {pipe_tvec_rf.score(X_test, y_test)}')"
   ]
  },
  {
   "cell_type": "markdown",
   "id": "f36795f3-9dc6-4ffd-9497-6ae677e21ab1",
   "metadata": {},
   "source": [
    "### adaboost with decision tree base model"
   ]
  },
  {
   "cell_type": "code",
   "execution_count": 494,
   "id": "aac00cce-d049-46af-9e24-f54048bd17f3",
   "metadata": {},
   "outputs": [
    {
     "name": "stdout",
     "output_type": "stream",
     "text": [
      "Cross_Val_Score: 0.851638908029557\n",
      "Training Score: 0.9956463496316142\n",
      "Testing Score: 0.8945783132530121\n"
     ]
    }
   ],
   "source": [
    "# cvec base model with stop words \n",
    "print(f'Cross_Val_Score: {cross_val_score(pipe_cvec_ada_dc, X_train, y_train, cv = 5).mean()}')\n",
    "print(f'Training Score: {pipe_cvec_ada_dc.score(X_train, y_train)}')\n",
    "print(f'Testing Score: {pipe_cvec_ada_dc.score(X_test, y_test)}')"
   ]
  },
  {
   "cell_type": "code",
   "execution_count": 495,
   "id": "b88f0df0-80de-4804-905b-8f24cf7af2a9",
   "metadata": {},
   "outputs": [
    {
     "name": "stdout",
     "output_type": "stream",
     "text": [
      "Cross_Val_Score: 0.8358985563267843\n",
      "Training Score: 0.9956463496316142\n",
      "Testing Score: 0.8845381526104418\n"
     ]
    }
   ],
   "source": [
    "# tvec base model with stop words \n",
    "print(f'Cross_Val_Score: {cross_val_score(pipe_tvec_ada_dc, X_train, y_train, cv = 5).mean()}')\n",
    "print(f'Training Score: {pipe_tvec_ada_dc.score(X_train, y_train)}')\n",
    "print(f'Testing Score: {pipe_tvec_ada_dc.score(X_test, y_test)}')"
   ]
  },
  {
   "cell_type": "markdown",
   "id": "67911c4f-e95e-4a1a-bafa-03db776b9078",
   "metadata": {},
   "source": [
    "#### Since tvec has consistently scored higher than cvec (albeit not by much) I will conitnue on using tvec alone. My best models are random forest, adaboost and multinomialNB. I will use these in conjunction with tvec for hyperparameter optimization using gridsearch to improve my models."
   ]
  },
  {
   "cell_type": "markdown",
   "id": "aa9bda5d-4d0b-48f9-83b1-fe0b350b09e0",
   "metadata": {},
   "source": [
    "# Gridsearch for optimizing hyperparamters for multinomialNB"
   ]
  },
  {
   "cell_type": "markdown",
   "id": "ce6d9034-63b2-4c82-a35a-f7f6c8b1cf1d",
   "metadata": {},
   "source": [
    "## Gridsearch for optimizing hyperparamters for multinomialNB"
   ]
  },
  {
   "cell_type": "code",
   "execution_count": 496,
   "id": "49daccdb-5551-4987-b9b9-4e56ee781afc",
   "metadata": {},
   "outputs": [
    {
     "name": "stdout",
     "output_type": "stream",
     "text": [
      "Cross_Val_Score: 0.8007355618673075\n",
      "Training Score: 0.891158740790355\n",
      "Testing Score: 0.8303212851405622\n"
     ]
    },
    {
     "data": {
      "text/plain": [
       "{'tvec__max_df': 0.85, 'tvec__max_features': 6000, 'tvec__min_df': 1}"
      ]
     },
     "execution_count": 496,
     "metadata": {},
     "output_type": "execute_result"
    }
   ],
   "source": [
    "# Gridsearching hyperparameters for multinomialNB #1\n",
    "\n",
    "pipe_tvec_nb_hp_1 = Pipeline([\n",
    "    ('tvec', TfidfVectorizer()),\n",
    "    ('nb', MultinomialNB())\n",
    "])\n",
    "\n",
    "pipe_tvec_nb_hp_params_1 = {\n",
    "    'tvec__max_features': [6000, 8000, 10000, 12000],\n",
    "    'tvec__min_df': [1, 2, 3],\n",
    "    'tvec__max_df': [0.85, 0.9, 0.95]\n",
    "}\n",
    "\n",
    "gs_pipe_tvec_nb_hp_1 = GridSearchCV(pipe_tvec_nb_hp_1, param_grid = pipe_tvec_nb_hp_params_1, cv = 5)\n",
    "\n",
    "gs_pipe_tvec_nb_hp_1.fit(X_train, y_train)\n",
    "print(f'Cross_Val_Score: {gs_pipe_tvec_nb_hp_1.best_score_}')\n",
    "print(f'Training Score: {gs_pipe_tvec_nb_hp_1.score(X_train, y_train)}')\n",
    "print(f'Testing Score: {gs_pipe_tvec_nb_hp_1.score(X_test, y_test)}')\n",
    "gs_pipe_tvec_nb_hp_1.best_params_"
   ]
  },
  {
   "cell_type": "code",
   "execution_count": 497,
   "id": "6fff0a64-8bdb-4be6-a320-2b712b5493c9",
   "metadata": {},
   "outputs": [
    {
     "name": "stdout",
     "output_type": "stream",
     "text": [
      "Cross_Val_Score: 0.7960465650437248\n",
      "Training Score: 0.8784326858673811\n",
      "Testing Score: 0.8192771084337349\n"
     ]
    }
   ],
   "source": [
    "# My original tvec with multinomialNB scores\n",
    "\n",
    "print(f'Cross_Val_Score: {cross_val_score(pipe_cvec_nb, X_train, y_train, cv = 5).mean()}')\n",
    "print(f'Training Score: {pipe_cvec_nb.score(X_train, y_train)}')\n",
    "print(f'Testing Score: {pipe_cvec_nb.score(X_test, y_test)}')"
   ]
  },
  {
   "cell_type": "markdown",
   "id": "49d3be57-4b1d-48d1-9932-250fcc8848f4",
   "metadata": {},
   "source": [
    "#### My hyperparameter grdsearch yielded better scores than my original scores. they are not largely different but a little better. I will try a little more hyperparameter optimization to see if I can beet my first Gridsearch scores"
   ]
  },
  {
   "cell_type": "code",
   "execution_count": 498,
   "id": "bfcaeeab-25e7-48d7-aacb-7c9b5ca934bc",
   "metadata": {},
   "outputs": [
    {
     "name": "stdout",
     "output_type": "stream",
     "text": [
      "Cross_Val_Score: 0.8007355618673075\n",
      "Training Score: 0.891158740790355\n",
      "Testing Score: 0.8303212851405622\n"
     ]
    },
    {
     "data": {
      "text/plain": [
       "{'tvec__max_df': 0.65, 'tvec__max_features': 2000, 'tvec__min_df': 1}"
      ]
     },
     "execution_count": 498,
     "metadata": {},
     "output_type": "execute_result"
    }
   ],
   "source": [
    "# Gridsearching hyperparameters for multinomialNB #2\n",
    "\n",
    "pipe_tvec_nb_hp_2 = Pipeline([\n",
    "    ('tvec', TfidfVectorizer()),\n",
    "    ('nb', MultinomialNB())\n",
    "])\n",
    "\n",
    "pipe_tvec_nb_hp_params_2 = {\n",
    "    'tvec__max_features': [2000, 4000, 6000],\n",
    "    'tvec__min_df': [1, 2, 3],\n",
    "    'tvec__max_df': [0.65, 0.75, 0.85]\n",
    "}\n",
    "\n",
    "gs_pipe_tvec_nb_hp_2 = GridSearchCV(pipe_tvec_nb_hp, param_grid = pipe_tvec_nb_hp_params_2, cv = 5)\n",
    "\n",
    "gs_pipe_tvec_nb_hp_2.fit(X_train, y_train)\n",
    "print(f'Cross_Val_Score: {gs_pipe_tvec_nb_hp_2.best_score_}')\n",
    "print(f'Training Score: {gs_pipe_tvec_nb_hp_2.score(X_train, y_train)}')\n",
    "print(f'Testing Score: {gs_pipe_tvec_nb_hp_2.score(X_test, y_test)}')\n",
    "gs_pipe_tvec_nb_hp_2.best_params_"
   ]
  },
  {
   "cell_type": "code",
   "execution_count": 499,
   "id": "bba6b244-7058-4883-a6f2-1efd2020b4c6",
   "metadata": {},
   "outputs": [
    {
     "name": "stdout",
     "output_type": "stream",
     "text": [
      "Cross_Val_Score: 0.7796339557318365\n",
      "Training Score: 0.8523107836570664\n",
      "Testing Score: 0.8002008032128514\n"
     ]
    },
    {
     "data": {
      "text/plain": [
       "{'tvec__max_df': 0.45, 'tvec__max_features': 1000, 'tvec__min_df': 1}"
      ]
     },
     "execution_count": 499,
     "metadata": {},
     "output_type": "execute_result"
    }
   ],
   "source": [
    "# Gridsearching hyperparameters for multinomialNB #3\n",
    "\n",
    "pipe_tvec_nb_hp_3 = Pipeline([\n",
    "    ('tvec', TfidfVectorizer()),\n",
    "    ('nb', MultinomialNB())\n",
    "])\n",
    "\n",
    "pipe_tvec_nb_hp_params_3 = {\n",
    "    'tvec__max_features': [100, 250, 500, 750, 1000],\n",
    "    'tvec__min_df': [1, 2, 3],\n",
    "    'tvec__max_df': [0.45, 0.55, 0.65, 0.75]\n",
    "}\n",
    "\n",
    "gs_pipe_tvec_nb_hp_3 = GridSearchCV(pipe_tvec_nb_hp, param_grid = pipe_tvec_nb_hp_params_3, cv = 5)\n",
    "\n",
    "gs_pipe_tvec_nb_hp_3.fit(X_train, y_train)\n",
    "print(f'Cross_Val_Score: {gs_pipe_tvec_nb_hp_3.best_score_}')\n",
    "print(f'Training Score: {gs_pipe_tvec_nb_hp_3.score(X_train, y_train)}')\n",
    "print(f'Testing Score: {gs_pipe_tvec_nb_hp_3.score(X_test, y_test)}')\n",
    "gs_pipe_tvec_nb_hp_3.best_params_"
   ]
  },
  {
   "cell_type": "markdown",
   "id": "2913e88b-f2c8-49b3-84be-deb0251c3df7",
   "metadata": {},
   "source": [
    "#### My scores keep going down as I continue to fien tune my hyperparameters. It appears that I was able to maximize the scores in the first gridsearch.\n"
   ]
  },
  {
   "cell_type": "markdown",
   "id": "8e71e06e-131f-4bd3-92d7-622e0b0e0d8b",
   "metadata": {},
   "source": [
    "## Gridsearch for optimizing hyperparamters for random forest "
   ]
  },
  {
   "cell_type": "code",
   "execution_count": 500,
   "id": "9a1feb28-cf29-4b2f-ac77-bdfd81e80376",
   "metadata": {},
   "outputs": [
    {
     "name": "stdout",
     "output_type": "stream",
     "text": [
      "Cross_Val_Score: 0.6423412241932555\n",
      "Training Score: 0.6550569323509712\n",
      "Testing Score: 0.6375502008032129\n"
     ]
    },
    {
     "data": {
      "text/plain": [
       "{'rf__ccp_alpha': 0.01,\n",
       " 'rf__max_depth': 15,\n",
       " 'rf__min_samples_leaf': 2,\n",
       " 'rf__n_estimators': 100,\n",
       " 'tvec__max_df': 0.6,\n",
       " 'tvec__max_features': 6000}"
      ]
     },
     "execution_count": 500,
     "metadata": {},
     "output_type": "execute_result"
    }
   ],
   "source": [
    "# Gridsearching hyperparameters for random forest #1\n",
    "\n",
    "pipe_tvec_rf_hp_1 = Pipeline([\n",
    "    ('tvec', TfidfVectorizer()),\n",
    "    ('rf', RandomForestClassifier(random_state = 42))\n",
    "])\n",
    "\n",
    "pipe_tvec_rf_hp_params_1 = {\n",
    "    'tvec__max_features': [6000, 8000],\n",
    "    'tvec__max_df': [0.6, 0.7],\n",
    "    'rf__n_estimators': [50, 75, 100],\n",
    "    'rf__max_depth': [15, 30],\n",
    "    'rf__ccp_alpha': [0.01, 0.1, 1.0],\n",
    "    'rf__min_samples_leaf': range(2, 4)\n",
    "}\n",
    "\n",
    "gs_pipe_tvec_rf_hp_1 = GridSearchCV(pipe_tvec_rf_hp_1, param_grid = pipe_tvec_rf_hp_params_1, cv = 3)\n",
    "\n",
    "gs_pipe_tvec_rf_hp_1.fit(X_train, y_train)\n",
    "print(f'Cross_Val_Score: {gs_pipe_tvec_rf_hp_1.best_score_}')\n",
    "print(f'Training Score: {gs_pipe_tvec_rf_hp_1.score(X_train, y_train)}')\n",
    "print(f'Testing Score: {gs_pipe_tvec_rf_hp_1.score(X_test, y_test)}')\n",
    "gs_pipe_tvec_rf_hp_1.best_params_"
   ]
  },
  {
   "cell_type": "code",
   "execution_count": 501,
   "id": "2735e8ff-83cc-4e8b-873c-058755e66bba",
   "metadata": {},
   "outputs": [
    {
     "name": "stdout",
     "output_type": "stream",
     "text": [
      "Cross_Val_Score: 0.7240442507046612\n",
      "Training Score: 0.7427997320830543\n",
      "Testing Score: 0.7279116465863453\n"
     ]
    },
    {
     "data": {
      "text/plain": [
       "{'rf__ccp_alpha': 0.005,\n",
       " 'rf__max_depth': 15,\n",
       " 'rf__min_samples_leaf': 1,\n",
       " 'rf__n_estimators': 125}"
      ]
     },
     "execution_count": 501,
     "metadata": {},
     "output_type": "execute_result"
    }
   ],
   "source": [
    "# Gridsearching hyperparameters for random forest #2\n",
    "\n",
    "pipe_tvec_rf_hp_2 = Pipeline([\n",
    "    ('tvec', TfidfVectorizer(max_df = 0.65, max_features = 6000)),\n",
    "    ('rf', RandomForestClassifier(random_state = 42))\n",
    "])\n",
    "\n",
    "pipe_tvec_rf_hp_params_2 = {\n",
    "    'rf__n_estimators': [100, 125, 150],\n",
    "    'rf__max_depth': [5, 10, 15],\n",
    "    'rf__ccp_alpha': [0.005, 0.01],\n",
    "    'rf__min_samples_leaf': [1, 2]\n",
    "}\n",
    "\n",
    "gs_pipe_tvec_rf_hp_2 = GridSearchCV(pipe_tvec_rf_hp_2, param_grid = pipe_tvec_rf_hp_params_2, cv = 3)\n",
    "\n",
    "gs_pipe_tvec_rf_hp_2.fit(X_train, y_train)\n",
    "print(f'Cross_Val_Score: {gs_pipe_tvec_rf_hp_2.best_score_}')\n",
    "print(f'Training Score: {gs_pipe_tvec_rf_hp_2.score(X_train, y_train)}')\n",
    "print(f'Testing Score: {gs_pipe_tvec_rf_hp_2.score(X_test, y_test)}')\n",
    "gs_pipe_tvec_rf_hp_2.best_params_"
   ]
  },
  {
   "cell_type": "markdown",
   "id": "39d91828-3f53-4570-b1bd-a9d16ca243b5",
   "metadata": {},
   "source": [
    "#### The optimal max depth seems to be best at 15 so I am going to set that to 15."
   ]
  },
  {
   "cell_type": "code",
   "execution_count": 502,
   "id": "a69c1e97-a0eb-4b14-9656-3daef4122964",
   "metadata": {},
   "outputs": [
    {
     "name": "stdout",
     "output_type": "stream",
     "text": [
      "Cross_Val_Score: 0.7772897284279496\n",
      "Training Score: 0.8556597454789016\n",
      "Testing Score: 0.7961847389558233\n"
     ]
    },
    {
     "data": {
      "text/plain": [
       "{'rf__ccp_alpha': 0, 'rf__min_samples_split': 4, 'rf__n_estimators': 200}"
      ]
     },
     "execution_count": 502,
     "metadata": {},
     "output_type": "execute_result"
    }
   ],
   "source": [
    "# Gridsearching hyperparameters for random forest #3\n",
    "\n",
    "pipe_tvec_rf_hp_3 = Pipeline([\n",
    "    ('tvec', TfidfVectorizer(max_df = 0.65, max_features = 6000)),\n",
    "    ('rf', RandomForestClassifier(random_state = 42, max_depth = 15))\n",
    "])\n",
    "\n",
    "pipe_tvec_rf_hp_params_3 = {\n",
    "    'rf__n_estimators': [150, 200, 300],\n",
    "    'rf__ccp_alpha': [0, 0.001,0.005],\n",
    "    'rf__min_samples_split': [4, 10, 20, 50]\n",
    "    \n",
    "}\n",
    "\n",
    "gs_pipe_tvec_rf_hp_3 = GridSearchCV(pipe_tvec_rf_hp_3, param_grid = pipe_tvec_rf_hp_params_3, cv = 3)\n",
    "\n",
    "gs_pipe_tvec_rf_hp_3.fit(X_train, y_train)\n",
    "print(f'Cross_Val_Score: {gs_pipe_tvec_rf_hp_3.best_score_}')\n",
    "print(f'Training Score: {gs_pipe_tvec_rf_hp_3.score(X_train, y_train)}')\n",
    "print(f'Testing Score: {gs_pipe_tvec_rf_hp_3.score(X_test, y_test)}')\n",
    "gs_pipe_tvec_rf_hp_3.best_params_"
   ]
  },
  {
   "cell_type": "markdown",
   "id": "6d86685a-9c16-4a8c-990c-ed3011533e65",
   "metadata": {},
   "source": [
    "#### The default alpha is 0 so leaving that default and I am going to increase my n_estimators. I will also look at numbers below 4 for my n_estimators."
   ]
  },
  {
   "cell_type": "code",
   "execution_count": 503,
   "id": "f689720d-9703-430d-bc0c-e479d8be290d",
   "metadata": {},
   "outputs": [
    {
     "name": "stdout",
     "output_type": "stream",
     "text": [
      "Cross_Val_Score: 0.8472869703268686\n",
      "Training Score: 0.9956463496316142\n",
      "Testing Score: 0.8895582329317269\n"
     ]
    },
    {
     "data": {
      "text/plain": [
       "{'rf__min_samples_split': 2, 'rf__n_estimators': 600}"
      ]
     },
     "execution_count": 503,
     "metadata": {},
     "output_type": "execute_result"
    }
   ],
   "source": [
    "# Gridsearching hyperparameters for random forest #4\n",
    "\n",
    "pipe_tvec_rf_hp_4 = Pipeline([\n",
    "    ('tvec', TfidfVectorizer(max_df = 0.65, max_features = 6000)),\n",
    "    ('rf', RandomForestClassifier(random_state = 42))\n",
    "])\n",
    "\n",
    "pipe_tvec_rf_hp_params_4 = {\n",
    "    'rf__n_estimators': [300, 400, 500, 600],\n",
    "    'rf__min_samples_split': [2, 3, 4]\n",
    "    \n",
    "}\n",
    "\n",
    "gs_pipe_tvec_rf_hp_4 = GridSearchCV(pipe_tvec_rf_hp_4, param_grid = pipe_tvec_rf_hp_params_4, cv = 3)\n",
    "\n",
    "gs_pipe_tvec_rf_hp_4.fit(X_train, y_train)\n",
    "print(f'Cross_Val_Score: {gs_pipe_tvec_rf_hp_4.best_score_}')\n",
    "print(f'Training Score: {gs_pipe_tvec_rf_hp_4.score(X_train, y_train)}')\n",
    "print(f'Testing Score: {gs_pipe_tvec_rf_hp_4.score(X_test, y_test)}')\n",
    "gs_pipe_tvec_rf_hp_4.best_params_"
   ]
  },
  {
   "cell_type": "code",
   "execution_count": 504,
   "id": "770006c4-a955-41ca-a4f7-85fedc354e01",
   "metadata": {},
   "outputs": [
    {
     "name": "stdout",
     "output_type": "stream",
     "text": [
      "Cross_Val_Score: 0.8703909738211681\n",
      "Training Score: 0.9956463496316142\n",
      "Testing Score: 0.8895582329317269\n"
     ]
    }
   ],
   "source": [
    "# tvec base model with stop words \n",
    "print(f'Cross_Val_Score: {cross_val_score(pipe_tvec_rf, X_train, y_train, cv = 5).mean()}')\n",
    "print(f'Training Score: {pipe_tvec_rf.score(X_train, y_train)}')\n",
    "print(f'Testing Score: {pipe_tvec_rf.score(X_test, y_test)}')"
   ]
  },
  {
   "cell_type": "markdown",
   "id": "bb362280-5cb6-4675-9dca-4d57f5c73344",
   "metadata": {},
   "source": [
    "#### I was able to move the needle a little bit on my test score but my cross val score was reduced by 3%. When I create my final stack model I will use my base random forest classifier and my optimized hyperparameters here to see which ultimately scores best in my stack."
   ]
  },
  {
   "cell_type": "markdown",
   "id": "81d68702-b1ca-4a60-a7b3-79d64c903de0",
   "metadata": {},
   "source": [
    "## Gridsearch for optimizing hyperparamters for adaboost"
   ]
  },
  {
   "cell_type": "code",
   "execution_count": 505,
   "id": "c5a30ecf-9587-4396-80a2-989395916e08",
   "metadata": {},
   "outputs": [
    {
     "name": "stdout",
     "output_type": "stream",
     "text": [
      "Cross_Val_Score: 0.6131917956583453\n",
      "Training Score: 0.601138647019424\n",
      "Testing Score: 0.5863453815261044\n"
     ]
    },
    {
     "data": {
      "text/plain": [
       "{'ad__base_estimator__ccp_alpha': 0.01,\n",
       " 'ad__base_estimator__min_samples_leaf': 2,\n",
       " 'ad__learning_rate': 0.5,\n",
       " 'ad__n_estimators': 25}"
      ]
     },
     "execution_count": 505,
     "metadata": {},
     "output_type": "execute_result"
    }
   ],
   "source": [
    "# Gridsearching hyperparameters for adaboost #1\n",
    "\n",
    "pipe_tvec_ad_hp_1 = Pipeline([\n",
    "    ('tvec', TfidfVectorizer()),\n",
    "    ('ad', AdaBoostClassifier(base_estimator=DecisionTreeClassifier(random_state = 42)))\n",
    "])\n",
    "\n",
    "pipe_tvec_ad_hp_params_1 = {\n",
    "    'ad__base_estimator__ccp_alpha': [0.01, 0.1],\n",
    "    'ad__base_estimator__min_samples_leaf': [2, 4],\n",
    "    'ad__n_estimators': [25, 50 , 100],\n",
    "    'ad__learning_rate': [0.5, 0.75, 1]\n",
    "}\n",
    "\n",
    "gs_pipe_tvec_ad_hp_1 = GridSearchCV(pipe_tvec_ad_hp_1, param_grid = pipe_tvec_ad_hp_params_1, cv = 3)\n",
    "\n",
    "gs_pipe_tvec_ad_hp_1.fit(X_train, y_train)\n",
    "print(f'Cross_Val_Score: {gs_pipe_tvec_ad_hp_1.best_score_}')\n",
    "print(f'Training Score: {gs_pipe_tvec_ad_hp_1.score(X_train, y_train)}')\n",
    "print(f'Testing Score: {gs_pipe_tvec_ad_hp_1.score(X_test, y_test)}')\n",
    "gs_pipe_tvec_ad_hp_1.best_params_"
   ]
  },
  {
   "cell_type": "markdown",
   "id": "d738d09d-8d00-479f-8711-e97d357e47b5",
   "metadata": {},
   "source": [
    "#### It appears as though the ccp_alpha and min_samples_leaf hyperparameters are ideal at the default values, which explains why my gridsearch model is not performing as well as my base model. I will remove those from my next search and leave them with their default values."
   ]
  },
  {
   "cell_type": "code",
   "execution_count": 506,
   "id": "5c672c92-8702-4244-8394-e7cc4c03e10e",
   "metadata": {},
   "outputs": [
    {
     "name": "stdout",
     "output_type": "stream",
     "text": [
      "Cross_Val_Score: 0.8214933435584886\n",
      "Training Score: 0.9956463496316142\n",
      "Testing Score: 0.8855421686746988\n"
     ]
    },
    {
     "data": {
      "text/plain": [
       "{'ad__base_estimator__min_samples_split': 8,\n",
       " 'ad__learning_rate': 0.75,\n",
       " 'ad__n_estimators': 25}"
      ]
     },
     "execution_count": 506,
     "metadata": {},
     "output_type": "execute_result"
    }
   ],
   "source": [
    "# Gridsearching hyperparameters for adaboost #2\n",
    "\n",
    "pipe_tvec_ad_hp_2 = Pipeline([\n",
    "    ('tvec', TfidfVectorizer()),\n",
    "    ('ad', AdaBoostClassifier(base_estimator=DecisionTreeClassifier(random_state = 42)))\n",
    "])\n",
    "\n",
    "pipe_tvec_ad_hp_params_2 = {\n",
    "    'ad__base_estimator__min_samples_split': [4, 6, 8],\n",
    "    'ad__n_estimators': [5, 10, 15, 20, 25],\n",
    "    'ad__learning_rate': [0.70, 0.75, 0.80]\n",
    "}\n",
    "\n",
    "gs_pipe_tvec_ad_hp_2 = GridSearchCV(pipe_tvec_ad_hp_2, param_grid = pipe_tvec_ad_hp_params_2, cv = 3)\n",
    "\n",
    "gs_pipe_tvec_ad_hp_2.fit(X_train, y_train)\n",
    "print(f'Cross_Val_Score: {gs_pipe_tvec_ad_hp_2.best_score_}')\n",
    "print(f'Training Score: {gs_pipe_tvec_ad_hp_2.score(X_train, y_train)}')\n",
    "print(f'Testing Score: {gs_pipe_tvec_ad_hp_2.score(X_test, y_test)}')\n",
    "gs_pipe_tvec_ad_hp_2.best_params_"
   ]
  },
  {
   "cell_type": "markdown",
   "id": "10bd497f-f86c-4e5a-8f0f-4a026e3dcfa1",
   "metadata": {},
   "source": [
    "### Restoring the defaults mentioned above and digging deeper into the min_samples_leaf, learning_rate and n_estimators is paying off. I will try one more time with more granular values."
   ]
  },
  {
   "cell_type": "code",
   "execution_count": 507,
   "id": "7ac7d833-1b08-4ea8-b206-1cbec1928acb",
   "metadata": {},
   "outputs": [
    {
     "name": "stdout",
     "output_type": "stream",
     "text": [
      "Cross_Val_Score: 0.8298709074152556\n",
      "Training Score: 0.9956463496316142\n",
      "Testing Score: 0.8945783132530121\n"
     ]
    },
    {
     "data": {
      "text/plain": [
       "{'ad__base_estimator__min_samples_split': 14,\n",
       " 'ad__learning_rate': 0.75,\n",
       " 'ad__n_estimators': 15}"
      ]
     },
     "execution_count": 507,
     "metadata": {},
     "output_type": "execute_result"
    }
   ],
   "source": [
    "# Gridsearching hyperparameters for adaboost #3\n",
    "\n",
    "pipe_tvec_ad_hp_3 = Pipeline([\n",
    "    ('tvec', TfidfVectorizer()),\n",
    "    ('ad', AdaBoostClassifier(base_estimator=DecisionTreeClassifier(random_state = 42)))\n",
    "])\n",
    "\n",
    "pipe_tvec_ad_hp_params_3 = {\n",
    "    'ad__base_estimator__min_samples_split': [8, 10, 12, 14],\n",
    "    'ad__n_estimators': [14, 15, 16],\n",
    "    'ad__learning_rate': [0.73, 0.75, 0.77]\n",
    "}\n",
    "\n",
    "gs_pipe_tvec_ad_hp_3 = GridSearchCV(pipe_tvec_ad_hp_3, param_grid = pipe_tvec_ad_hp_params_3, cv = 3)\n",
    "\n",
    "gs_pipe_tvec_ad_hp_3.fit(X_train, y_train)\n",
    "print(f'Cross_Val_Score: {gs_pipe_tvec_ad_hp_3.best_score_}')\n",
    "print(f'Training Score: {gs_pipe_tvec_ad_hp_3.score(X_train, y_train)}')\n",
    "print(f'Testing Score: {gs_pipe_tvec_ad_hp_3.score(X_test, y_test)}')\n",
    "gs_pipe_tvec_ad_hp_3.best_params_"
   ]
  },
  {
   "cell_type": "code",
   "execution_count": 508,
   "id": "73b7ee44-e13a-48ec-bad6-73797371ac9c",
   "metadata": {},
   "outputs": [
    {
     "name": "stdout",
     "output_type": "stream",
     "text": [
      "Cross_Val_Score: 0.8332184893251092\n",
      "Training Score: 0.9956463496316142\n",
      "Testing Score: 0.8845381526104418\n"
     ]
    }
   ],
   "source": [
    "# tvec base model \n",
    "print(f'Cross_Val_Score: {cross_val_score(pipe_tvec_ada_dc, X_train, y_train, cv = 5).mean()}')\n",
    "print(f'Training Score: {pipe_tvec_ada_dc.score(X_train, y_train)}')\n",
    "print(f'Testing Score: {pipe_tvec_ada_dc.score(X_test, y_test)}')"
   ]
  },
  {
   "cell_type": "markdown",
   "id": "43e79de6-5d8d-416b-bc31-903db30fc433",
   "metadata": {},
   "source": [
    "#### Even with the hyperparameter search my model is still performing better as the base model. This is unexpected but I will continue with my base model as it is still scoring higher."
   ]
  },
  {
   "cell_type": "markdown",
   "id": "3861494b-fd0a-4d06-ab29-7c9ec2d500cd",
   "metadata": {},
   "source": [
    "# Stacking my models"
   ]
  },
  {
   "cell_type": "markdown",
   "id": "4aa569c2-c8dc-4a0b-95b2-eaf8669cb4d5",
   "metadata": {},
   "source": [
    "## Stacking with my base tvec vectorizer and base random forest model"
   ]
  },
  {
   "cell_type": "code",
   "execution_count": 509,
   "id": "f7e95ebb-cefd-4dda-bf3d-6be89ed5fd74",
   "metadata": {},
   "outputs": [
    {
     "name": "stdout",
     "output_type": "stream",
     "text": [
      "Train Score: 0.9953114534494307\n",
      "Test Score: 0.9046184738955824\n"
     ]
    }
   ],
   "source": [
    "level1_estimators = [\n",
    "    ('rf_pipe_1', Pipeline([\n",
    "        ('tvec', TfidfVectorizer()),\n",
    "        ('rf', RandomForestClassifier(random_state = 42))])),\n",
    "    ('nb_pipe', Pipeline([\n",
    "        ('tvec', TfidfVectorizer()),\n",
    "        ('nb', MultinomialNB())])),\n",
    "    ('ad_pipe', Pipeline([\n",
    "        ('tvec', TfidfVectorizer()),\n",
    "        ('rf', AdaBoostClassifier(base_estimator = DecisionTreeClassifier(random_state = 42)))]))\n",
    "]\n",
    "\n",
    "stacked_model_1 = StackingClassifier(estimators=level1_estimators,\n",
    "                                 final_estimator=LogisticRegression())\n",
    "\n",
    "stacked_model_1.fit(X_train, y_train)\n",
    "print(f'Train Score: {stacked_model_1.score(X_train, y_train)}')\n",
    "print(f'Test Score: {stacked_model_1.score(X_test, y_test)}')"
   ]
  },
  {
   "cell_type": "markdown",
   "id": "ce4249c5-4398-4fc6-806b-8c099f96f0e1",
   "metadata": {},
   "source": [
    "## Stacking with my optimized hyperparameter tvec vectorizer and base random forst "
   ]
  },
  {
   "cell_type": "code",
   "execution_count": 520,
   "id": "847ff55a-340c-41c4-9e19-e15878388d7c",
   "metadata": {},
   "outputs": [
    {
     "name": "stdout",
     "output_type": "stream",
     "text": [
      "Train Score: 0.9953114534494307\n",
      "Test Score: 0.9016064257028112\n"
     ]
    }
   ],
   "source": [
    "level1_estimators = [\n",
    "    ('rf_pipe_1', Pipeline([\n",
    "        ('tvec', TfidfVectorizer(max_df = 0.65, max_features = 6000)),\n",
    "        ('rf', RandomForestClassifier(random_state = 42))])),\n",
    "    ('nb_pipe', Pipeline([\n",
    "        ('tvec', TfidfVectorizer(max_df = 0.65, max_features = 6000)),\n",
    "        ('nb', MultinomialNB())])),\n",
    "    ('ad_pipe', Pipeline([\n",
    "        ('tvec', TfidfVectorizer(max_df = 0.65, max_features = 6000)),\n",
    "        ('rf', AdaBoostClassifier(base_estimator = DecisionTreeClassifier(random_state = 42)))]))\n",
    "]\n",
    "\n",
    "stacked_model_2 = StackingClassifier(estimators=level1_estimators,\n",
    "                                 final_estimator=LogisticRegression())\n",
    "\n",
    "stacked_model_2.fit(X_train, y_train)\n",
    "print(f'Train Score: {stacked_model_2.score(X_train, y_train)}')\n",
    "print(f'Test Score: {stacked_model_2.score(X_test, y_test)}')"
   ]
  },
  {
   "cell_type": "markdown",
   "id": "1db029b7-b07d-47a6-b419-307199393c87",
   "metadata": {},
   "source": [
    "## Stacking with my optimized hyperparameter tvec vectorizer and optimized hyperparameter random forst "
   ]
  },
  {
   "cell_type": "code",
   "execution_count": 516,
   "id": "771b70a8-e12e-4660-a1b4-1a832943081e",
   "metadata": {},
   "outputs": [
    {
     "name": "stdout",
     "output_type": "stream",
     "text": [
      "Train Score: 0.9882786336235767\n",
      "Test Score: 0.8995983935742972\n"
     ]
    }
   ],
   "source": [
    "level1_estimators = [\n",
    "    ('rf_pipe_1', Pipeline([\n",
    "        ('tvec', TfidfVectorizer(max_df = 0.65, max_features = 6000)),\n",
    "        ('rf', RandomForestClassifier(random_state = 42, max_depth = 15, n_estimators = 500))])),\n",
    "    ('nb_pipe', Pipeline([\n",
    "        ('tvec', TfidfVectorizer(max_df = 0.65, max_features = 6000)),\n",
    "        ('nb', MultinomialNB())])),\n",
    "    ('ad_pipe', Pipeline([\n",
    "        ('tvec', TfidfVectorizer(max_df = 0.65, max_features = 6000)),\n",
    "        ('rf', AdaBoostClassifier(base_estimator = DecisionTreeClassifier(random_state = 42)))]))\n",
    "]\n",
    "\n",
    "stacked_model_3 = StackingClassifier(estimators=level1_estimators,\n",
    "                                 final_estimator=LogisticRegression())\n",
    "\n",
    "stacked_model_3.fit(X_train, y_train)\n",
    "print(f'Train Score: {stacked_model_3.score(X_train, y_train)}')\n",
    "print(f'Test Score: {stacked_model_3.score(X_test, y_test)}')"
   ]
  },
  {
   "cell_type": "markdown",
   "id": "feb77054-fd6b-4499-a355-d85e1fd01173",
   "metadata": {},
   "source": [
    "#### From the scores above my stack with the tvec optimized hyperparameters and base models performed the best (stacked_model_2). Although the model is overfit I am satisfied with this model. Given that my target is the Subreddit category Sleep Train, I would much rather the model be overfit than have high bias. Although the two Subreddit categories represent the two main camps of modern child rearing they do have overlap. Many attachment parenting subscribers will also purchase monitoring equipment and those that have posts titles that skew towards sleep training would be excellent candidates for the target audience identified in my problem statement. "
   ]
  },
  {
   "cell_type": "markdown",
   "id": "70e96e54-ee03-4e6e-b0d5-06df08528094",
   "metadata": {},
   "source": [
    "# Model Analysis"
   ]
  },
  {
   "cell_type": "code",
   "execution_count": 521,
   "id": "4823ba0a-6c23-4dbe-9231-1f080b6d2a11",
   "metadata": {},
   "outputs": [],
   "source": [
    "# Calculating my predictions from my stacking model\n",
    "preds = stacked_model_2.predict(X_test)"
   ]
  },
  {
   "cell_type": "code",
   "execution_count": 561,
   "id": "3434451e-b37b-45ca-b68e-96e1f04ee876",
   "metadata": {
    "tags": []
   },
   "outputs": [
    {
     "data": {
      "image/png": "[encoded data removed]",
      "text/plain": [
       "<Figure size 640x480 with 2 Axes>"
      ]
     },
     "metadata": {},
     "output_type": "display_data"
    }
   ],
   "source": [
    "# Creating a Confusion matrix from my stacking model\n",
    "cm = ConfusionMatrixDisplay.from_estimator(stacked_model_2, X_test, y_test)\n",
    "plt.tight_layout()\n",
    "plt.savefig('../project-3/Images/confusion_matrix.png')"
   ]
  },
  {
   "cell_type": "markdown",
   "id": "bc6868e4-1e27-45a9-985a-9a6257d29c9e",
   "metadata": {},
   "source": [
    "### My confusion matrix supports what I expected from my stacking score, my model is  overfit and I have some type 1 and type 2 errors. If I had more time I would work more on reducing my variance but, all in all, I am happy with the model. I do have more false negatives (type 1 errors) than I would like. The idea is to catch as many sleep training category individuals as I can in order to optimize for my problem statement which is to sell baby monitoring equipment to those that would need them. Here I would be missing out on potential customers. I would rather have more false positives in this case (type 2 errors) as the individuals who are classified incorrectly as sleep trainers may have posted something that was similar to someone in the sleep training camp and may be open to purchasing baby monitoring equipment. "
   ]
  },
  {
   "cell_type": "code",
   "execution_count": 553,
   "id": "9d649e92-b3be-4da1-bf3c-e3105542f4a5",
   "metadata": {},
   "outputs": [],
   "source": [
    "# Saving true negative, false positive, false negative and true positive values\n",
    "tn, fp, fn, tp = confusion_matrix(y_test, preds).ravel()"
   ]
  },
  {
   "cell_type": "code",
   "execution_count": 554,
   "id": "dc392698-bcc1-4e8d-941f-c0f8ddf361db",
   "metadata": {},
   "outputs": [
    {
     "data": {
      "text/plain": [
       "0.9016064257028112"
      ]
     },
     "execution_count": 554,
     "metadata": {},
     "output_type": "execute_result"
    }
   ],
   "source": [
    "# Confirming accuracy\n",
    "stacked_model_2.score(X_test, y_test)"
   ]
  },
  {
   "cell_type": "code",
   "execution_count": 556,
   "id": "ad523474-7f19-4bbd-86da-861e4b76fe52",
   "metadata": {},
   "outputs": [
    {
     "data": {
      "text/plain": [
       "0.9195171026156942"
      ]
     },
     "execution_count": 556,
     "metadata": {},
     "output_type": "execute_result"
    }
   ],
   "source": [
    "# Calculating Specificity\n",
    "spec = tn / (tn + fp)\n",
    "spec"
   ]
  },
  {
   "cell_type": "markdown",
   "id": "5cae365f-043f-4538-8f8d-bb4dd3e6d9f5",
   "metadata": {},
   "source": [
    "### This is the proportion of actual negatives identified by my model. My stacked model can identify an individual posting in the Attachment Parenting Subreddit approximately 92% of the time."
   ]
  },
  {
   "cell_type": "code",
   "execution_count": 557,
   "id": "b3e825ce-cad0-4d9b-a809-2f0eadfb61ca",
   "metadata": {},
   "outputs": [
    {
     "data": {
      "text/plain": [
       "0.8837675350701403"
      ]
     },
     "execution_count": 557,
     "metadata": {},
     "output_type": "execute_result"
    }
   ],
   "source": [
    "# Calculating sensitivity\n",
    "recall = recall_score(y_test, preds)\n",
    "recall"
   ]
  },
  {
   "cell_type": "markdown",
   "id": "0540f3c0-2333-4115-abbd-8d1de03497d4",
   "metadata": {},
   "source": [
    "### This is the proportion of actual positives identified by my model. My stacked model can correctly identify an individual posting in the Sleep Training Subreddit approximately 88% of the time. As I said before, I would rather have a higher sensitivity than specificity for my model as I would want to sell to as many Sleep Training individuals as possible."
   ]
  },
  {
   "cell_type": "code",
   "execution_count": 558,
   "id": "37d1186c-d487-4914-8b2b-c76b8d37426d",
   "metadata": {},
   "outputs": [
    {
     "data": {
      "text/plain": [
       "0.9168399168399168"
      ]
     },
     "execution_count": 558,
     "metadata": {},
     "output_type": "execute_result"
    }
   ],
   "source": [
    "# Calculating precision\n",
    "precision = precision_score(y_test, preds)\n",
    "precision"
   ]
  },
  {
   "cell_type": "markdown",
   "id": "d686a877-6e8e-4b7d-b537-c2c02c94dfb4",
   "metadata": {},
   "source": [
    "### This is proportion of the positives that my model predicted that are correct. This is not as crucial to my model based on my problem statement as false positives are not as important as my hit rate."
   ]
  },
  {
   "cell_type": "code",
   "execution_count": 559,
   "id": "87c13265-192f-4aa2-b723-87aa4bd95a9d",
   "metadata": {},
   "outputs": [
    {
     "data": {
      "text/plain": [
       "0.8999999999999999"
      ]
     },
     "execution_count": 559,
     "metadata": {},
     "output_type": "execute_result"
    }
   ],
   "source": [
    "# Calculating F1 score\n",
    "f1_score = f1_score(y_test, preds)\n",
    "f1_score"
   ]
  },
  {
   "cell_type": "markdown",
   "id": "c3c6b6c3-7d60-422e-99c8-dcc8038e1d5f",
   "metadata": {},
   "source": [
    "### Ideally this would be higher. This is the harmonic mean of my precision and recall score. Recall is another word for sensitivity which is what I would want to optimize for. However, since my recall is lower than my precision my F1 score is lower as well. That being said, if I had to choose I would exchange precision for sensitivity so the F1 score is not as important to me."
   ]
  },
  {
   "cell_type": "code",
   "execution_count": 562,
   "id": "6aea4313-0742-408f-bd2a-e1b39dc8088b",
   "metadata": {},
   "outputs": [
    {
     "data": {
      "image/png": "[encoded data removed]",
      "text/plain": [
       "<Figure size 640x480 with 1 Axes>"
      ]
     },
     "metadata": {},
     "output_type": "display_data"
    }
   ],
   "source": [
    "# Creating ROC Curve\n",
    "RocCurveDisplay.from_estimator(stacked_model_2, X_test, y_test)\n",
    "\n",
    "# add 'worst case scenario' line\n",
    "plt.plot([0,1], [0,1], label = 'no prediction value', linestyle = '--', color = 'gray')\n",
    "\n",
    "# add a legend\n",
    "plt.legend();\n",
    "plt.tight_layout()\n",
    "plt.savefig('../project-3/Images/roc_curve.png')"
   ]
  },
  {
   "cell_type": "markdown",
   "id": "1e26461b-f255-4e68-8cd4-7126e5b673d8",
   "metadata": {},
   "source": [
    "#### All in all, not a terrible model. The ROC curve looks good. it is not at a 90 degree angle but my stacked model does a decent job of classifying both categories. I would like to do more optimization of the model if I were to be working on this for an actual company. I believe that I could optimize my feature selection more. I would like to utilize PCA to do that. I could also incorporate the self text from the Subreddits. It would take more time in processing and cleaning but at least it would give me a chance to use regex more.  I would also pull more data and see how my current models performed and optimize for better ones! I have found this project very enjoyable and would be happy to spend another week on it if I could."
   ]
  },
  {
   "cell_type": "code",
   "execution_count": null,
   "id": "8d365b1c-1580-46ef-befb-3d2a5be5aff0",
   "metadata": {},
   "outputs": [],
   "source": []
  }
 ],
 "metadata": {
  "kernelspec": {
   "display_name": "Python 3 (ipykernel)",
   "language": "python",
   "name": "python3"
  },
  "language_info": {
   "codemirror_mode": {
    "name": "ipython",
    "version": 3
   },
   "file_extension": ".py",
   "mimetype": "text/x-python",
   "name": "python",
   "nbconvert_exporter": "python",
   "pygments_lexer": "ipython3",
   "version": "3.9.16"
  }
 },
 "nbformat": 4,
 "nbformat_minor": 5
}
